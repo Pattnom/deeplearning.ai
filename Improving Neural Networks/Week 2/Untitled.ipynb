{
 "cells": [
  {
   "cell_type": "code",
   "execution_count": 1,
   "metadata": {},
   "outputs": [],
   "source": [
    "import numpy as np\n",
    "import matplotlib.pyplot as plt\n",
    "import scipy.io\n",
    "import math\n",
    "import sklearn\n",
    "import sklearn.datasets"
   ]
  },
  {
   "cell_type": "code",
   "execution_count": 2,
   "metadata": {},
   "outputs": [
    {
     "name": "stdout",
     "output_type": "stream",
     "text": [
      "x = [[ 1.62434536 -0.61175641 -0.52817175 -1.07296862  0.86540763 -2.3015387 ]\n",
      " [ 1.74481176 -0.7612069   0.3190391  -0.24937038  1.46210794 -2.06014071]]\n"
     ]
    }
   ],
   "source": [
    "np.random.seed(1)\n",
    "x=np.random.randn(2, 6)\n",
    "print(\"x = \" + str(x))"
   ]
  },
  {
   "cell_type": "code",
   "execution_count": 42,
   "metadata": {},
   "outputs": [
    {
     "name": "stdout",
     "output_type": "stream",
     "text": [
      "[[ 1.62434536 -0.61175641]\n",
      " [ 1.74481176 -0.7612069 ]]\n"
     ]
    }
   ],
   "source": [
    "xx = x[:, (0*2):(0+1)*2]\n",
    "print(xx)"
   ]
  },
  {
   "cell_type": "code",
   "execution_count": 43,
   "metadata": {},
   "outputs": [
    {
     "name": "stdout",
     "output_type": "stream",
     "text": [
      "[[-0.52817175 -1.07296862]\n",
      " [ 0.3190391  -0.24937038]]\n"
     ]
    }
   ],
   "source": [
    "xx = x[:, (1*2):(1+1)*2]\n",
    "print(xx)"
   ]
  },
  {
   "cell_type": "code",
   "execution_count": 44,
   "metadata": {},
   "outputs": [
    {
     "name": "stdout",
     "output_type": "stream",
     "text": [
      "[[ 0.86540763 -2.3015387 ]\n",
      " [ 1.46210794 -2.06014071]]\n"
     ]
    }
   ],
   "source": [
    "xx = x[:, (2*2):(2+1)*2]\n",
    "print(xx)"
   ]
  },
  {
   "cell_type": "code",
   "execution_count": 59,
   "metadata": {},
   "outputs": [
    {
     "name": "stdout",
     "output_type": "stream",
     "text": [
      "[[-0.61175641  1.62434536 -0.52817175]\n",
      " [-0.7612069   1.74481176  0.3190391 ]]\n"
     ]
    }
   ],
   "source": [
    "np.random.seed(4)\n",
    "permutation = list(np.random.permutation(3))\n",
    "shuffled_X = x[:, permutation]\n",
    "print(shuffled_X)"
   ]
  },
  {
   "cell_type": "code",
   "execution_count": 60,
   "metadata": {},
   "outputs": [
    {
     "name": "stdout",
     "output_type": "stream",
     "text": [
      "[1, 0, 2]\n"
     ]
    }
   ],
   "source": [
    "print(permutation)"
   ]
  },
  {
   "cell_type": "code",
   "execution_count": 61,
   "metadata": {},
   "outputs": [
    {
     "data": {
      "text/plain": [
       "16"
      ]
     },
     "execution_count": 61,
     "metadata": {},
     "output_type": "execute_result"
    }
   ],
   "source": [
    "np.power(4, 2)"
   ]
  },
  {
   "cell_type": "code",
   "execution_count": 62,
   "metadata": {},
   "outputs": [
    {
     "data": {
      "text/plain": [
       "2.0"
      ]
     },
     "execution_count": 62,
     "metadata": {},
     "output_type": "execute_result"
    }
   ],
   "source": [
    "np.sqrt(4)"
   ]
  },
  {
   "cell_type": "code",
   "execution_count": 64,
   "metadata": {},
   "outputs": [
    {
     "data": {
      "text/plain": [
       "-0.6117564136500754"
      ]
     },
     "execution_count": 64,
     "metadata": {},
     "output_type": "execute_result"
    }
   ],
   "source": [
    "x[0,1]"
   ]
  },
  {
   "cell_type": "code",
   "execution_count": 65,
   "metadata": {},
   "outputs": [
    {
     "name": "stdout",
     "output_type": "stream",
     "text": [
      "y = [[[[ 0.45036151  0.04500167  0.9934697   1.07932256  1.45162561]\n",
      "   [-0.33881198  0.36623181 -0.30501214 -0.48492332 -0.12066567]\n",
      "   [-0.0788265   0.56373477 -0.18040236  0.20218012  0.16951775]]\n",
      "\n",
      "  [[-0.71522547  0.52533388 -0.74738768  0.74981904 -2.4598148 ]\n",
      "   [ 0.03600369  0.72612944  1.43327736  2.6547994  -1.21166587]\n",
      "   [ 1.69268959 -1.14031579  1.65688784  1.31929701  0.61136545]]\n",
      "\n",
      "  [[-0.441491   -1.13908785  1.98495133  0.02693565  0.35880669]\n",
      "   [-1.61454139  0.82448138  0.26043704  1.37718202 -1.37307059]\n",
      "   [-0.00993354 -1.38947805  1.22956251 -0.25388263  0.85576984]]]\n",
      "\n",
      "\n",
      " [[[-0.17599712 -1.69610226 -0.95617171  1.15563935  0.24133141]\n",
      "   [ 0.27677085  1.04420738  0.18173901 -0.77604419  0.82242392]\n",
      "   [-0.90004667  0.0362415   0.97073319 -0.65066811  0.15493329]]\n",
      "\n",
      "  [[-1.0765125   0.11634145 -1.55579813  1.3072029   0.32773476]\n",
      "   [-0.69489149  2.71679361  0.55569945 -0.04361956  1.2226314 ]\n",
      "   [ 0.04559882  1.38058694  0.21525806  0.55026835 -0.38327751]]\n",
      "\n",
      "  [[-0.99400708 -0.36737734  0.89755607 -0.12038412 -1.36735395]\n",
      "   [ 1.58509564 -1.42901032 -1.62232121 -0.4290878  -1.62606267]\n",
      "   [-1.75784563 -0.71706825  0.21258137  0.88797378  1.15788279]]]\n",
      "\n",
      "\n",
      " [[[-0.48592231  1.03849998  0.150796   -0.59486708  0.34128327]\n",
      "   [-0.49442359 -0.41224719  1.32834536 -0.05362094  0.68767448]\n",
      "   [ 0.77821729  0.80953263 -0.51108662  0.04746629  0.46028561]]\n",
      "\n",
      "  [[ 2.07686269 -0.6777886   1.92452674  0.25761456 -0.78378952]\n",
      "   [-0.70173425 -1.61013768 -0.62091514  1.1985025   0.1881814 ]\n",
      "   [ 0.36347693 -1.30380298  0.21220811  1.44903167 -0.49834163]]\n",
      "\n",
      "  [[ 0.402877   -0.61300981  0.48299111  0.55489365 -1.08782929]\n",
      "   [ 1.27911558 -2.05694781 -0.8534615  -0.46878782  0.92968507]\n",
      "   [ 0.46020847 -0.18758147  0.12080317 -0.86575871  0.42570543]]]]\n"
     ]
    }
   ],
   "source": [
    "y=np.random.randn(3, 3, 3, 5)\n",
    "print(\"y = \" + str(y))"
   ]
  },
  {
   "cell_type": "code",
   "execution_count": 67,
   "metadata": {},
   "outputs": [
    {
     "name": "stdout",
     "output_type": "stream",
     "text": [
      "y = [[[ 0.45036151 -0.33881198 -0.0788265 ]\n",
      "  [-0.71522547  0.03600369  1.69268959]\n",
      "  [-0.441491   -1.61454139 -0.00993354]]\n",
      "\n",
      " [[-0.17599712  0.27677085 -0.90004667]\n",
      "  [-1.0765125  -0.69489149  0.04559882]\n",
      "  [-0.99400708  1.58509564 -1.75784563]]\n",
      "\n",
      " [[-0.48592231 -0.49442359  0.77821729]\n",
      "  [ 2.07686269 -0.70173425  0.36347693]\n",
      "  [ 0.402877    1.27911558  0.46020847]]]\n"
     ]
    }
   ],
   "source": [
    "print(\"y = \" + str(y[..., 0]))"
   ]
  },
  {
   "cell_type": "code",
   "execution_count": 66,
   "metadata": {},
   "outputs": [
    {
     "name": "stdout",
     "output_type": "stream",
     "text": [
      "b = [[[[ 0.12781184 -0.42330897 -0.5292739  -1.19528179 -0.82327108]]]]\n"
     ]
    }
   ],
   "source": [
    "b = np.random.randn(1,1,1,5)\n",
    "print(\"b = \" + str(b))"
   ]
  },
  {
   "cell_type": "code",
   "execution_count": null,
   "metadata": {},
   "outputs": [],
   "source": []
  },
  {
   "cell_type": "code",
   "execution_count": 72,
   "metadata": {},
   "outputs": [
    {
     "name": "stdout",
     "output_type": "stream",
     "text": [
      "2\n"
     ]
    }
   ],
   "source": [
    "box1 = (2, 1, 4, 3)\n",
    "box2 = (1, 2, 3, 4) \n",
    "print(box1[0])"
   ]
  },
  {
   "cell_type": "code",
   "execution_count": 75,
   "metadata": {},
   "outputs": [],
   "source": [
    "np.random.seed(0)\n",
    "p = np.array([0.1, 0.7, 0.0, 0.2])\n",
    "index = np.random.choice([0, 1, 2, 3], p = p.ravel())"
   ]
  },
  {
   "cell_type": "code",
   "execution_count": 76,
   "metadata": {},
   "outputs": [
    {
     "data": {
      "text/plain": [
       "1"
      ]
     },
     "execution_count": 76,
     "metadata": {},
     "output_type": "execute_result"
    }
   ],
   "source": [
    "index"
   ]
  },
  {
   "cell_type": "code",
   "execution_count": 77,
   "metadata": {},
   "outputs": [
    {
     "name": "stdout",
     "output_type": "stream",
     "text": [
      "xoxo love xoxo\n"
     ]
    }
   ],
   "source": [
    "string = ' xoxo love xoxo   '\n",
    "\n",
    "# Leading whitepsace are removed\n",
    "print(string.strip())"
   ]
  },
  {
   "cell_type": "code",
   "execution_count": null,
   "metadata": {},
   "outputs": [],
   "source": []
  }
 ],
 "metadata": {
  "kernelspec": {
   "display_name": "Python 3",
   "language": "python",
   "name": "python3"
  },
  "language_info": {
   "codemirror_mode": {
    "name": "ipython",
    "version": 3
   },
   "file_extension": ".py",
   "mimetype": "text/x-python",
   "name": "python",
   "nbconvert_exporter": "python",
   "pygments_lexer": "ipython3",
   "version": "3.7.3"
  }
 },
 "nbformat": 4,
 "nbformat_minor": 2
}
