{
 "cells": [
  {
   "cell_type": "markdown",
   "metadata": {},
   "source": [
    "# Neural Machine Translation\n",
    "\n",
    "Welcome to your first programming assignment for this week! \n",
    "\n",
    "You will build a Neural Machine Translation (NMT) model to translate human readable dates (\"25th of June, 2009\") into machine readable dates (\"2009-06-25\"). You will do this using an attention model, one of the most sophisticated sequence to sequence models. \n",
    "\n",
    "This notebook was produced together with NVIDIA's Deep Learning Institute. \n",
    "\n",
    "Let's load all the packages you will need for this assignment."
   ]
  },
  {
   "cell_type": "code",
   "execution_count": 1,
   "metadata": {},
   "outputs": [
    {
     "name": "stderr",
     "output_type": "stream",
     "text": [
      "Using TensorFlow backend.\n"
     ]
    }
   ],
   "source": [
    "from keras.layers import Bidirectional, Concatenate, Permute, Dot, Input, LSTM, Multiply\n",
    "from keras.layers import RepeatVector, Dense, Activation, Lambda\n",
    "from keras.optimizers import Adam\n",
    "from keras.utils import to_categorical\n",
    "from keras.models import load_model, Model\n",
    "import keras.backend as K\n",
    "import numpy as np\n",
    "\n",
    "from faker import Faker\n",
    "import random\n",
    "from tqdm import tqdm\n",
    "from babel.dates import format_date\n",
    "from nmt_utils import *\n",
    "import matplotlib.pyplot as plt\n",
    "%matplotlib inline"
   ]
  },
  {
   "cell_type": "markdown",
   "metadata": {},
   "source": [
    "## 1 - Translating human readable dates into machine readable dates\n",
    "\n",
    "The model you will build here could be used to translate from one language to another, such as translating from English to Hindi. However, language translation requires massive datasets and usually takes days of training on GPUs. To give you a place to experiment with these models even without using massive datasets, we will instead use a simpler \"date translation\" task. \n",
    "\n",
    "The network will input a date written in a variety of possible formats (*e.g. \"the 29th of August 1958\", \"03/30/1968\", \"24 JUNE 1987\"*) and translate them into standardized, machine readable dates (*e.g. \"1958-08-29\", \"1968-03-30\", \"1987-06-24\"*). We will have the network learn to output dates in the common machine-readable format YYYY-MM-DD. \n",
    "\n",
    "\n",
    "\n",
    "<!-- \n",
    "Take a look at [nmt_utils.py](./nmt_utils.py) to see all the formatting. Count and figure out how the formats work, you will need this knowledge later. !--> "
   ]
  },
  {
   "cell_type": "markdown",
   "metadata": {},
   "source": [
    "### 1.1 - Dataset\n",
    "\n",
    "We will train the model on a dataset of 10000 human readable dates and their equivalent, standardized, machine readable dates. Let's run the following cells to load the dataset and print some examples. "
   ]
  },
  {
   "cell_type": "code",
   "execution_count": 2,
   "metadata": {},
   "outputs": [
    {
     "name": "stderr",
     "output_type": "stream",
     "text": [
      "100%|██████████| 10000/10000 [00:00<00:00, 12464.73it/s]\n"
     ]
    }
   ],
   "source": [
    "m = 10000\n",
    "dataset, human_vocab, machine_vocab, inv_machine_vocab = load_dataset(m)"
   ]
  },
  {
   "cell_type": "code",
   "execution_count": 3,
   "metadata": {},
   "outputs": [
    {
     "data": {
      "text/plain": [
       "[('9 may 1998', '1998-05-09'),\n",
       " ('10.09.70', '1970-09-10'),\n",
       " ('4/28/90', '1990-04-28'),\n",
       " ('thursday january 26 1995', '1995-01-26'),\n",
       " ('monday march 7 1983', '1983-03-07'),\n",
       " ('sunday may 22 1988', '1988-05-22'),\n",
       " ('tuesday july 8 2008', '2008-07-08'),\n",
       " ('08 sep 1999', '1999-09-08'),\n",
       " ('1 jan 1981', '1981-01-01'),\n",
       " ('monday may 22 1995', '1995-05-22')]"
      ]
     },
     "execution_count": 3,
     "metadata": {},
     "output_type": "execute_result"
    }
   ],
   "source": [
    "dataset[:10]"
   ]
  },
  {
   "cell_type": "markdown",
   "metadata": {},
   "source": [
    "You've loaded:\n",
    "- `dataset`: a list of tuples of (human readable date, machine readable date)\n",
    "- `human_vocab`: a python dictionary mapping all characters used in the human readable dates to an integer-valued index \n",
    "- `machine_vocab`: a python dictionary mapping all characters used in machine readable dates to an integer-valued index. These indices are not necessarily consistent with `human_vocab`. \n",
    "- `inv_machine_vocab`: the inverse dictionary of `machine_vocab`, mapping from indices back to characters. \n",
    "\n",
    "Let's preprocess the data and map the raw text data into the index values. We will also use Tx=30 (which we assume is the maximum length of the human readable date; if we get a longer input, we would have to truncate it) and Ty=10 (since \"YYYY-MM-DD\" is 10 characters long). "
   ]
  },
  {
   "cell_type": "code",
   "execution_count": 4,
   "metadata": {},
   "outputs": [
    {
     "name": "stdout",
     "output_type": "stream",
     "text": [
      "X.shape: (10000, 30)\n",
      "Y.shape: (10000, 10)\n",
      "Xoh.shape: (10000, 30, 37)\n",
      "Yoh.shape: (10000, 10, 11)\n"
     ]
    }
   ],
   "source": [
    "Tx = 30\n",
    "Ty = 10\n",
    "X, Y, Xoh, Yoh = preprocess_data(dataset, human_vocab, machine_vocab, Tx, Ty)\n",
    "\n",
    "print(\"X.shape:\", X.shape)\n",
    "print(\"Y.shape:\", Y.shape)\n",
    "print(\"Xoh.shape:\", Xoh.shape)\n",
    "print(\"Yoh.shape:\", Yoh.shape)"
   ]
  },
  {
   "cell_type": "markdown",
   "metadata": {},
   "source": [
    "You now have:\n",
    "- `X`: a processed version of the human readable dates in the training set, where each character is replaced by an index mapped to the character via `human_vocab`. Each date is further padded to $T_x$ values with a special character (< pad >). `X.shape = (m, Tx)`\n",
    "- `Y`: a processed version of the machine readable dates in the training set, where each character is replaced by the index it is mapped to in `machine_vocab`. You should have `Y.shape = (m, Ty)`. \n",
    "- `Xoh`: one-hot version of `X`, the \"1\" entry's index is mapped to the character thanks to `human_vocab`. `Xoh.shape = (m, Tx, len(human_vocab))`\n",
    "- `Yoh`: one-hot version of `Y`, the \"1\" entry's index is mapped to the character thanks to `machine_vocab`. `Yoh.shape = (m, Tx, len(machine_vocab))`. Here, `len(machine_vocab) = 11` since there are 11 characters ('-' as well as 0-9). \n"
   ]
  },
  {
   "cell_type": "markdown",
   "metadata": {},
   "source": [
    "Lets also look at some examples of preprocessed training examples. Feel free to play with `index` in the cell below to navigate the dataset and see how source/target dates are preprocessed. "
   ]
  },
  {
   "cell_type": "code",
   "execution_count": 5,
   "metadata": {},
   "outputs": [
    {
     "name": "stdout",
     "output_type": "stream",
     "text": [
      "Source date: 9 may 1998\n",
      "Target date: 1998-05-09\n",
      "\n",
      "Source after preprocessing (indices): [12  0 24 13 34  0  4 12 12 11 36 36 36 36 36 36 36 36 36 36 36 36 36 36\n",
      " 36 36 36 36 36 36]\n",
      "Target after preprocessing (indices): [ 2 10 10  9  0  1  6  0  1 10]\n",
      "\n",
      "Source after preprocessing (one-hot): [[0. 0. 0. ... 0. 0. 0.]\n",
      " [1. 0. 0. ... 0. 0. 0.]\n",
      " [0. 0. 0. ... 0. 0. 0.]\n",
      " ...\n",
      " [0. 0. 0. ... 0. 0. 1.]\n",
      " [0. 0. 0. ... 0. 0. 1.]\n",
      " [0. 0. 0. ... 0. 0. 1.]]\n",
      "Target after preprocessing (one-hot): [[0. 0. 1. 0. 0. 0. 0. 0. 0. 0. 0.]\n",
      " [0. 0. 0. 0. 0. 0. 0. 0. 0. 0. 1.]\n",
      " [0. 0. 0. 0. 0. 0. 0. 0. 0. 0. 1.]\n",
      " [0. 0. 0. 0. 0. 0. 0. 0. 0. 1. 0.]\n",
      " [1. 0. 0. 0. 0. 0. 0. 0. 0. 0. 0.]\n",
      " [0. 1. 0. 0. 0. 0. 0. 0. 0. 0. 0.]\n",
      " [0. 0. 0. 0. 0. 0. 1. 0. 0. 0. 0.]\n",
      " [1. 0. 0. 0. 0. 0. 0. 0. 0. 0. 0.]\n",
      " [0. 1. 0. 0. 0. 0. 0. 0. 0. 0. 0.]\n",
      " [0. 0. 0. 0. 0. 0. 0. 0. 0. 0. 1.]]\n"
     ]
    }
   ],
   "source": [
    "index = 0\n",
    "print(\"Source date:\", dataset[index][0])\n",
    "print(\"Target date:\", dataset[index][1])\n",
    "print()\n",
    "print(\"Source after preprocessing (indices):\", X[index])\n",
    "print(\"Target after preprocessing (indices):\", Y[index])\n",
    "print()\n",
    "print(\"Source after preprocessing (one-hot):\", Xoh[index])\n",
    "print(\"Target after preprocessing (one-hot):\", Yoh[index])"
   ]
  },
  {
   "cell_type": "markdown",
   "metadata": {},
   "source": [
    "## 2 - Neural machine translation with attention\n",
    "\n",
    "If you had to translate a book's paragraph from French to English, you would not read the whole paragraph, then close the book and translate. Even during the translation process, you would read/re-read and focus on the parts of the French paragraph corresponding to the parts of the English you are writing down. \n",
    "\n",
    "The attention mechanism tells a Neural Machine Translation model where it should pay attention to at any step. \n",
    "\n",
    "\n",
    "### 2.1 - Attention mechanism\n",
    "\n",
    "In this part, you will implement the attention mechanism presented in the lecture videos. Here is a figure to remind you how the model works. The diagram on the left shows the attention model. The diagram on the right shows what one \"Attention\" step does to calculate the attention variables $\\alpha^{\\langle t, t' \\rangle}$, which are used to compute the context variable $context^{\\langle t \\rangle}$ for each timestep in the output ($t=1, \\ldots, T_y$). \n",
    "\n",
    "<table>\n",
    "<td> \n",
    "<img src=\"images/attn_model.png\" style=\"width:500;height:500px;\"> <br>\n",
    "</td> \n",
    "<td> \n",
    "<img src=\"images/attn_mechanism.png\" style=\"width:500;height:500px;\"> <br>\n",
    "</td> \n",
    "</table>\n",
    "<caption><center> **Figure 1**: Neural machine translation with attention</center></caption>\n"
   ]
  },
  {
   "cell_type": "markdown",
   "metadata": {},
   "source": [
    "\n",
    "Here are some properties of the model that you may notice: \n",
    "\n",
    "- There are two separate LSTMs in this model (see diagram on the left). Because the one at the bottom of the picture is a Bi-directional LSTM and comes *before* the attention mechanism, we will call it *pre-attention* Bi-LSTM. The LSTM at the top of the diagram comes *after* the attention mechanism, so we will call it the *post-attention* LSTM. The pre-attention Bi-LSTM goes through $T_x$ time steps; the post-attention LSTM goes through $T_y$ time steps. \n",
    "\n",
    "- The post-attention LSTM passes $s^{\\langle t \\rangle}, c^{\\langle t \\rangle}$ from one time step to the next. In the lecture videos, we were using only a basic RNN for the post-activation sequence model, so the state captured by the RNN output activations $s^{\\langle t\\rangle}$. But since we are using an LSTM here, the LSTM has both the output activation $s^{\\langle t\\rangle}$ and the hidden cell state $c^{\\langle t\\rangle}$. However, unlike previous text generation examples (such as Dinosaurus in week 1), in this model the post-activation LSTM at time $t$ does will not take the specific generated $y^{\\langle t-1 \\rangle}$ as input; it only takes $s^{\\langle t\\rangle}$ and $c^{\\langle t\\rangle}$ as input. We have designed the model this way, because (unlike language generation where adjacent characters are highly correlated) there isn't as strong a dependency between the previous character and the next character in a YYYY-MM-DD date. \n",
    "\n",
    "- We use $a^{\\langle t \\rangle} = [\\overrightarrow{a}^{\\langle t \\rangle}; \\overleftarrow{a}^{\\langle t \\rangle}]$ to represent the concatenation of the activations of both the forward-direction and backward-directions of the pre-attention Bi-LSTM. \n",
    "\n",
    "- The diagram on the right uses a `RepeatVector` node to copy $s^{\\langle t-1 \\rangle}$'s value $T_x$ times, and then `Concatenation` to concatenate $s^{\\langle t-1 \\rangle}$ and $a^{\\langle t \\rangle}$ to compute $e^{\\langle t, t'}$, which is then passed through a softmax to compute $\\alpha^{\\langle t, t' \\rangle}$. We'll explain how to use `RepeatVector` and `Concatenation` in Keras below. \n",
    "\n",
    "Lets implement this model. You will start by implementing two functions: `one_step_attention()` and `model()`.\n",
    "\n",
    "**1) `one_step_attention()`**: At step $t$, given all the hidden states of the Bi-LSTM ($[a^{<1>},a^{<2>}, ..., a^{<T_x>}]$) and the previous hidden state of the second LSTM ($s^{<t-1>}$), `one_step_attention()` will compute the attention weights ($[\\alpha^{<t,1>},\\alpha^{<t,2>}, ..., \\alpha^{<t,T_x>}]$) and output the context vector (see Figure  1 (right) for details):\n",
    "$$context^{<t>} = \\sum_{t' = 0}^{T_x} \\alpha^{<t,t'>}a^{<t'>}\\tag{1}$$ \n",
    "\n",
    "Note that we are denoting the attention in this notebook $context^{\\langle t \\rangle}$. In the lecture videos, the context was denoted $c^{\\langle t \\rangle}$, but here we are calling it $context^{\\langle t \\rangle}$ to avoid confusion with the (post-attention) LSTM's internal memory cell variable, which is sometimes also denoted $c^{\\langle t \\rangle}$. \n",
    "  \n",
    "**2) `model()`**: Implements the entire model. It first runs the input through a Bi-LSTM to get back $[a^{<1>},a^{<2>}, ..., a^{<T_x>}]$. Then, it calls `one_step_attention()` $T_y$ times (`for` loop). At each iteration of this loop, it gives the computed context vector $c^{<t>}$ to the second LSTM, and runs the output of the LSTM through a dense layer with softmax activation to generate a prediction $\\hat{y}^{<t>}$. \n",
    "\n",
    "\n",
    "\n",
    "**Exercise**: Implement `one_step_attention()`. The function `model()` will call the layers in `one_step_attention()` $T_y$ using a for-loop, and it is important that all $T_y$ copies have the same weights. I.e., it should not re-initiaiize the weights every time. In other words, all $T_y$ steps should have shared weights. Here's how you can implement layers with shareable weights in Keras:\n",
    "1. Define the layer objects (as global variables for examples).\n",
    "2. Call these objects when propagating the input.\n",
    "\n",
    "We have defined the layers you need as global variables. Please run the following cells to create them. Please check the Keras documentation to make sure you understand what these layers are: [RepeatVector()](https://keras.io/layers/core/#repeatvector), [Concatenate()](https://keras.io/layers/merge/#concatenate), [Dense()](https://keras.io/layers/core/#dense), [Activation()](https://keras.io/layers/core/#activation), [Dot()](https://keras.io/layers/merge/#dot)."
   ]
  },
  {
   "cell_type": "code",
   "execution_count": 6,
   "metadata": {},
   "outputs": [
    {
     "name": "stdout",
     "output_type": "stream",
     "text": [
      "WARNING:tensorflow:From C:\\ProgramData\\Anaconda3\\lib\\site-packages\\keras\\backend\\tensorflow_backend.py:74: The name tf.get_default_graph is deprecated. Please use tf.compat.v1.get_default_graph instead.\n",
      "\n"
     ]
    }
   ],
   "source": [
    "# Defined shared layers as global variables\n",
    "repeator = RepeatVector(Tx)\n",
    "concatenator = Concatenate(axis=-1)\n",
    "densor1 = Dense(10, activation = \"tanh\")\n",
    "densor2 = Dense(1, activation = \"relu\")\n",
    "activator = Activation(softmax, name='attention_weights') # We are using a custom softmax(axis = 1) loaded in this notebook\n",
    "dotor = Dot(axes = 1)"
   ]
  },
  {
   "cell_type": "markdown",
   "metadata": {},
   "source": [
    "Now you can use these layers to implement `one_step_attention()`. In order to propagate a Keras tensor object X through one of these layers, use `layer(X)` (or `layer([X,Y])` if it requires multiple inputs.), e.g. `densor(X)` will propagate X through the `Dense(1)` layer defined above."
   ]
  },
  {
   "cell_type": "code",
   "execution_count": 7,
   "metadata": {},
   "outputs": [],
   "source": [
    "# GRADED FUNCTION: one_step_attention\n",
    "\n",
    "def one_step_attention(a, s_prev):\n",
    "    \"\"\"\n",
    "    Performs one step of attention: Outputs a context vector computed as a dot product of the attention weights\n",
    "    \"alphas\" and the hidden states \"a\" of the Bi-LSTM.\n",
    "    \n",
    "    Arguments:\n",
    "    a -- hidden state output of the Bi-LSTM, numpy-array of shape (m, Tx, 2*n_a)\n",
    "    s_prev -- previous hidden state of the (post-attention) LSTM, numpy-array of shape (m, n_s)\n",
    "    \n",
    "    Returns:\n",
    "    context -- context vector, input of the next (post-attetion) LSTM cell\n",
    "    \"\"\"\n",
    "    \n",
    "   ### START CODE HERE ###\n",
    "    # Use repeator to repeat s_prev to be of shape (m, Tx, n_s) so that you can concatenate it with all hidden states \"a\" (≈ 1 line)\n",
    "    s_prev = repeator(s_prev)\n",
    "    # Use concatenator to concatenate a and s_prev on the last axis (≈ 1 line)\n",
    "    concat = concatenator([a, s_prev])\n",
    "    # Use densor to propagate concat through a small fully-connected neural network to compute the \"energies\" variable e. (≈1 lines)\n",
    "    e = densor1(concat)\n",
    "    energies = densor2(e)\n",
    "    # Use activator and e to compute the attention weights \"alphas\" (≈ 1 line)\n",
    "    alphas = activator(energies)\n",
    "    # Use dotor together with \"alphas\" and \"a\" to compute the context vector to be given to the next (post-attention) LSTM-cell (≈ 1 line)\n",
    "    context = dotor([alphas, a])\n",
    "    ### END CODE HERE ###\n",
    "    \n",
    "    return context"
   ]
  },
  {
   "cell_type": "markdown",
   "metadata": {},
   "source": [
    "You will be able to check the expected output of `one_step_attention()` after you've coded the `model()` function."
   ]
  },
  {
   "cell_type": "markdown",
   "metadata": {},
   "source": [
    "**Exercise**: Implement `model()` as explained in figure 2 and the text above. Again, we have defined global layers that will share weights to be used in `model()`."
   ]
  },
  {
   "cell_type": "code",
   "execution_count": 8,
   "metadata": {},
   "outputs": [],
   "source": [
    "n_a = 32\n",
    "n_s = 64\n",
    "post_activation_LSTM_cell = LSTM(n_s, return_state = True)\n",
    "output_layer = Dense(len(machine_vocab), activation=softmax)"
   ]
  },
  {
   "cell_type": "markdown",
   "metadata": {},
   "source": [
    "Now you can use these layers $T_y$ times in a `for` loop to generate the outputs, and their parameters will not be reinitialized. You will have to carry out the following steps: \n",
    "\n",
    "1. Propagate the input into a [Bidirectional](https://keras.io/layers/wrappers/#bidirectional) [LSTM](https://keras.io/layers/recurrent/#lstm)\n",
    "2. Iterate for $t = 0, \\dots, T_y-1$: \n",
    "    1. Call `one_step_attention()` on $[\\alpha^{<t,1>},\\alpha^{<t,2>}, ..., \\alpha^{<t,T_x>}]$ and $s^{<t-1>}$ to get the context vector $context^{<t>}$.\n",
    "    2. Give $context^{<t>}$ to the post-attention LSTM cell. Remember pass in the previous hidden-state $s^{\\langle t-1\\rangle}$ and cell-states $c^{\\langle t-1\\rangle}$ of this LSTM using `initial_state= [previous hidden state, previous cell state]`. Get back the new hidden state $s^{<t>}$ and the new cell state $c^{<t>}$.\n",
    "    3. Apply a softmax layer to $s^{<t>}$, get the output. \n",
    "    4. Save the output by adding it to the list of outputs.\n",
    "\n",
    "3. Create your Keras model instance, it should have three inputs (\"inputs\", $s^{<0>}$ and $c^{<0>}$) and output the list of \"outputs\"."
   ]
  },
  {
   "cell_type": "code",
   "execution_count": 9,
   "metadata": {},
   "outputs": [],
   "source": [
    "# GRADED FUNCTION: model\n",
    "\n",
    "def model(Tx, Ty, n_a, n_s, human_vocab_size, machine_vocab_size):\n",
    "    \"\"\"\n",
    "    Arguments:\n",
    "    Tx -- length of the input sequence\n",
    "    Ty -- length of the output sequence\n",
    "    n_a -- hidden state size of the Bi-LSTM\n",
    "    n_s -- hidden state size of the post-attention LSTM\n",
    "    human_vocab_size -- size of the python dictionary \"human_vocab\"\n",
    "    machine_vocab_size -- size of the python dictionary \"machine_vocab\"\n",
    "\n",
    "    Returns:\n",
    "    model -- Keras model instance\n",
    "    \"\"\"\n",
    "    \n",
    "    # Define the inputs of your model with a shape (Tx,)\n",
    "    # Define s0 and c0, initial hidden state for the decoder LSTM of shape (n_s,)\n",
    "    X = Input(shape=(Tx, human_vocab_size))\n",
    "    s0 = Input(shape=(n_s,), name='s0')\n",
    "    c0 = Input(shape=(n_s,), name='c0')\n",
    "    s = s0\n",
    "    c = c0\n",
    "    \n",
    "    # Initialize empty list of outputs\n",
    "    outputs = []\n",
    "    \n",
    "    ### START CODE HERE ###\n",
    "    \n",
    "    # Step 1: Define your pre-attention Bi-LSTM. Remember to use return_sequences=True. (≈ 1 line)\n",
    "    a = Bidirectional(LSTM(n_a, return_sequences=True))(X)\n",
    "    \n",
    "    # Step 2: Iterate for Ty steps\n",
    "    for t in range(Ty):\n",
    "    \n",
    "        # Step 2.A: Perform one step of the attention mechanism to get back the context vector at step t (≈ 1 line)\n",
    "        context = one_step_attention(a, s)\n",
    "        \n",
    "        # Step 2.B: Apply the post-attention LSTM cell to the \"context\" vector.\n",
    "        # Don't forget to pass: initial_state = [hidden state, cell state] (≈ 1 line)\n",
    "        s, _, c = post_activation_LSTM_cell(context, initial_state = [s,c])\n",
    "        \n",
    "        # Step 2.C: Apply Dense layer to the hidden state output of the post-attention LSTM (≈ 1 line)\n",
    "        out = output_layer(s)\n",
    "        \n",
    "        # Step 2.D: Append \"out\" to the \"outputs\" list (≈ 1 line)\n",
    "        outputs.append(out)\n",
    "    \n",
    "    # Step 3: Create model instance taking three inputs and returning the list of outputs. (≈ 1 line)\n",
    "    model = Model(inputs=[X, s0, c0], outputs=outputs)\n",
    "    ### END CODE HERE ###\n",
    "    \n",
    "    return model"
   ]
  },
  {
   "cell_type": "markdown",
   "metadata": {},
   "source": [
    "Run the following cell to create your model."
   ]
  },
  {
   "cell_type": "code",
   "execution_count": 10,
   "metadata": {},
   "outputs": [
    {
     "name": "stdout",
     "output_type": "stream",
     "text": [
      "WARNING:tensorflow:From C:\\ProgramData\\Anaconda3\\lib\\site-packages\\keras\\backend\\tensorflow_backend.py:517: The name tf.placeholder is deprecated. Please use tf.compat.v1.placeholder instead.\n",
      "\n",
      "WARNING:tensorflow:From C:\\ProgramData\\Anaconda3\\lib\\site-packages\\keras\\backend\\tensorflow_backend.py:4138: The name tf.random_uniform is deprecated. Please use tf.random.uniform instead.\n",
      "\n"
     ]
    }
   ],
   "source": [
    "model = model(Tx, Ty, n_a, n_s, len(human_vocab), len(machine_vocab))"
   ]
  },
  {
   "cell_type": "markdown",
   "metadata": {},
   "source": [
    "Let's get a summary of the model to check if it matches the expected output."
   ]
  },
  {
   "cell_type": "code",
   "execution_count": 11,
   "metadata": {},
   "outputs": [
    {
     "name": "stdout",
     "output_type": "stream",
     "text": [
      "__________________________________________________________________________________________________\n",
      "Layer (type)                    Output Shape         Param #     Connected to                     \n",
      "==================================================================================================\n",
      "input_1 (InputLayer)            (None, 30, 37)       0                                            \n",
      "__________________________________________________________________________________________________\n",
      "s0 (InputLayer)                 (None, 64)           0                                            \n",
      "__________________________________________________________________________________________________\n",
      "bidirectional_1 (Bidirectional) (None, 30, 64)       17920       input_1[0][0]                    \n",
      "__________________________________________________________________________________________________\n",
      "repeat_vector_1 (RepeatVector)  (None, 30, 64)       0           s0[0][0]                         \n",
      "                                                                 lstm_1[0][0]                     \n",
      "                                                                 lstm_1[1][0]                     \n",
      "                                                                 lstm_1[2][0]                     \n",
      "                                                                 lstm_1[3][0]                     \n",
      "                                                                 lstm_1[4][0]                     \n",
      "                                                                 lstm_1[5][0]                     \n",
      "                                                                 lstm_1[6][0]                     \n",
      "                                                                 lstm_1[7][0]                     \n",
      "                                                                 lstm_1[8][0]                     \n",
      "__________________________________________________________________________________________________\n",
      "concatenate_1 (Concatenate)     (None, 30, 128)      0           bidirectional_1[0][0]            \n",
      "                                                                 repeat_vector_1[0][0]            \n",
      "                                                                 bidirectional_1[0][0]            \n",
      "                                                                 repeat_vector_1[1][0]            \n",
      "                                                                 bidirectional_1[0][0]            \n",
      "                                                                 repeat_vector_1[2][0]            \n",
      "                                                                 bidirectional_1[0][0]            \n",
      "                                                                 repeat_vector_1[3][0]            \n",
      "                                                                 bidirectional_1[0][0]            \n",
      "                                                                 repeat_vector_1[4][0]            \n",
      "                                                                 bidirectional_1[0][0]            \n",
      "                                                                 repeat_vector_1[5][0]            \n",
      "                                                                 bidirectional_1[0][0]            \n",
      "                                                                 repeat_vector_1[6][0]            \n",
      "                                                                 bidirectional_1[0][0]            \n",
      "                                                                 repeat_vector_1[7][0]            \n",
      "                                                                 bidirectional_1[0][0]            \n",
      "                                                                 repeat_vector_1[8][0]            \n",
      "                                                                 bidirectional_1[0][0]            \n",
      "                                                                 repeat_vector_1[9][0]            \n",
      "__________________________________________________________________________________________________\n",
      "dense_1 (Dense)                 (None, 30, 10)       1290        concatenate_1[0][0]              \n",
      "                                                                 concatenate_1[1][0]              \n",
      "                                                                 concatenate_1[2][0]              \n",
      "                                                                 concatenate_1[3][0]              \n",
      "                                                                 concatenate_1[4][0]              \n",
      "                                                                 concatenate_1[5][0]              \n",
      "                                                                 concatenate_1[6][0]              \n",
      "                                                                 concatenate_1[7][0]              \n",
      "                                                                 concatenate_1[8][0]              \n",
      "                                                                 concatenate_1[9][0]              \n",
      "__________________________________________________________________________________________________\n",
      "dense_2 (Dense)                 (None, 30, 1)        11          dense_1[0][0]                    \n",
      "                                                                 dense_1[1][0]                    \n",
      "                                                                 dense_1[2][0]                    \n",
      "                                                                 dense_1[3][0]                    \n",
      "                                                                 dense_1[4][0]                    \n",
      "                                                                 dense_1[5][0]                    \n",
      "                                                                 dense_1[6][0]                    \n",
      "                                                                 dense_1[7][0]                    \n",
      "                                                                 dense_1[8][0]                    \n",
      "                                                                 dense_1[9][0]                    \n",
      "__________________________________________________________________________________________________\n",
      "attention_weights (Activation)  (None, 30, 1)        0           dense_2[0][0]                    \n",
      "                                                                 dense_2[1][0]                    \n",
      "                                                                 dense_2[2][0]                    \n",
      "                                                                 dense_2[3][0]                    \n",
      "                                                                 dense_2[4][0]                    \n",
      "                                                                 dense_2[5][0]                    \n",
      "                                                                 dense_2[6][0]                    \n",
      "                                                                 dense_2[7][0]                    \n",
      "                                                                 dense_2[8][0]                    \n",
      "                                                                 dense_2[9][0]                    \n",
      "__________________________________________________________________________________________________\n",
      "dot_1 (Dot)                     (None, 1, 64)        0           attention_weights[0][0]          \n",
      "                                                                 bidirectional_1[0][0]            \n",
      "                                                                 attention_weights[1][0]          \n",
      "                                                                 bidirectional_1[0][0]            \n",
      "                                                                 attention_weights[2][0]          \n",
      "                                                                 bidirectional_1[0][0]            \n",
      "                                                                 attention_weights[3][0]          \n",
      "                                                                 bidirectional_1[0][0]            \n"
     ]
    },
    {
     "name": "stdout",
     "output_type": "stream",
     "text": [
      "                                                                 attention_weights[4][0]          \n",
      "                                                                 bidirectional_1[0][0]            \n",
      "                                                                 attention_weights[5][0]          \n",
      "                                                                 bidirectional_1[0][0]            \n",
      "                                                                 attention_weights[6][0]          \n",
      "                                                                 bidirectional_1[0][0]            \n",
      "                                                                 attention_weights[7][0]          \n",
      "                                                                 bidirectional_1[0][0]            \n",
      "                                                                 attention_weights[8][0]          \n",
      "                                                                 bidirectional_1[0][0]            \n",
      "                                                                 attention_weights[9][0]          \n",
      "                                                                 bidirectional_1[0][0]            \n",
      "__________________________________________________________________________________________________\n",
      "c0 (InputLayer)                 (None, 64)           0                                            \n",
      "__________________________________________________________________________________________________\n",
      "lstm_1 (LSTM)                   [(None, 64), (None,  33024       dot_1[0][0]                      \n",
      "                                                                 s0[0][0]                         \n",
      "                                                                 c0[0][0]                         \n",
      "                                                                 dot_1[1][0]                      \n",
      "                                                                 lstm_1[0][0]                     \n",
      "                                                                 lstm_1[0][2]                     \n",
      "                                                                 dot_1[2][0]                      \n",
      "                                                                 lstm_1[1][0]                     \n",
      "                                                                 lstm_1[1][2]                     \n",
      "                                                                 dot_1[3][0]                      \n",
      "                                                                 lstm_1[2][0]                     \n",
      "                                                                 lstm_1[2][2]                     \n",
      "                                                                 dot_1[4][0]                      \n",
      "                                                                 lstm_1[3][0]                     \n",
      "                                                                 lstm_1[3][2]                     \n",
      "                                                                 dot_1[5][0]                      \n",
      "                                                                 lstm_1[4][0]                     \n",
      "                                                                 lstm_1[4][2]                     \n",
      "                                                                 dot_1[6][0]                      \n",
      "                                                                 lstm_1[5][0]                     \n",
      "                                                                 lstm_1[5][2]                     \n",
      "                                                                 dot_1[7][0]                      \n",
      "                                                                 lstm_1[6][0]                     \n",
      "                                                                 lstm_1[6][2]                     \n",
      "                                                                 dot_1[8][0]                      \n",
      "                                                                 lstm_1[7][0]                     \n",
      "                                                                 lstm_1[7][2]                     \n",
      "                                                                 dot_1[9][0]                      \n",
      "                                                                 lstm_1[8][0]                     \n",
      "                                                                 lstm_1[8][2]                     \n",
      "__________________________________________________________________________________________________\n",
      "dense_3 (Dense)                 (None, 11)           715         lstm_1[0][0]                     \n",
      "                                                                 lstm_1[1][0]                     \n",
      "                                                                 lstm_1[2][0]                     \n",
      "                                                                 lstm_1[3][0]                     \n",
      "                                                                 lstm_1[4][0]                     \n",
      "                                                                 lstm_1[5][0]                     \n",
      "                                                                 lstm_1[6][0]                     \n",
      "                                                                 lstm_1[7][0]                     \n",
      "                                                                 lstm_1[8][0]                     \n",
      "                                                                 lstm_1[9][0]                     \n",
      "==================================================================================================\n",
      "Total params: 52,960\n",
      "Trainable params: 52,960\n",
      "Non-trainable params: 0\n",
      "__________________________________________________________________________________________________\n"
     ]
    }
   ],
   "source": [
    "model.summary()"
   ]
  },
  {
   "cell_type": "markdown",
   "metadata": {},
   "source": [
    "**Expected Output**:\n",
    "\n",
    "Here is the summary you should see\n",
    "<table>\n",
    "    <tr>\n",
    "        <td>\n",
    "            **Total params:**\n",
    "        </td>\n",
    "        <td>\n",
    "         52,960\n",
    "        </td>\n",
    "    </tr>\n",
    "        <tr>\n",
    "        <td>\n",
    "            **Trainable params:**\n",
    "        </td>\n",
    "        <td>\n",
    "         52,960\n",
    "        </td>\n",
    "    </tr>\n",
    "            <tr>\n",
    "        <td>\n",
    "            **Non-trainable params:**\n",
    "        </td>\n",
    "        <td>\n",
    "         0\n",
    "        </td>\n",
    "    </tr>\n",
    "                    <tr>\n",
    "        <td>\n",
    "            **bidirectional_1's output shape **\n",
    "        </td>\n",
    "        <td>\n",
    "         (None, 30, 64)  \n",
    "        </td>\n",
    "    </tr>\n",
    "    <tr>\n",
    "        <td>\n",
    "            **repeat_vector_1's output shape **\n",
    "        </td>\n",
    "        <td>\n",
    "         (None, 30, 64) \n",
    "        </td>\n",
    "    </tr>\n",
    "                <tr>\n",
    "        <td>\n",
    "            **concatenate_1's output shape **\n",
    "        </td>\n",
    "        <td>\n",
    "         (None, 30, 128) \n",
    "        </td>\n",
    "    </tr>\n",
    "            <tr>\n",
    "        <td>\n",
    "            **attention_weights's output shape **\n",
    "        </td>\n",
    "        <td>\n",
    "         (None, 30, 1)  \n",
    "        </td>\n",
    "    </tr>\n",
    "        <tr>\n",
    "        <td>\n",
    "            **dot_1's output shape **\n",
    "        </td>\n",
    "        <td>\n",
    "         (None, 1, 64)\n",
    "        </td>\n",
    "    </tr>\n",
    "           <tr>\n",
    "        <td>\n",
    "            **dense_3's output shape **\n",
    "        </td>\n",
    "        <td>\n",
    "         (None, 11) \n",
    "        </td>\n",
    "    </tr>\n",
    "</table>\n"
   ]
  },
  {
   "cell_type": "markdown",
   "metadata": {},
   "source": [
    "As usual, after creating your model in Keras, you need to compile it and define what loss, optimizer and metrics your are want to use. Compile your model using `categorical_crossentropy` loss, a custom [Adam](https://keras.io/optimizers/#adam) [optimizer](https://keras.io/optimizers/#usage-of-optimizers) (`learning rate = 0.005`, $\\beta_1 = 0.9$, $\\beta_2 = 0.999$, `decay = 0.01`)  and `['accuracy']` metrics:"
   ]
  },
  {
   "cell_type": "code",
   "execution_count": 12,
   "metadata": {},
   "outputs": [
    {
     "name": "stdout",
     "output_type": "stream",
     "text": [
      "WARNING:tensorflow:From C:\\ProgramData\\Anaconda3\\lib\\site-packages\\keras\\optimizers.py:790: The name tf.train.Optimizer is deprecated. Please use tf.compat.v1.train.Optimizer instead.\n",
      "\n",
      "WARNING:tensorflow:From C:\\ProgramData\\Anaconda3\\lib\\site-packages\\keras\\backend\\tensorflow_backend.py:3295: The name tf.log is deprecated. Please use tf.math.log instead.\n",
      "\n"
     ]
    }
   ],
   "source": [
    "### START CODE HERE ### (≈2 lines)\n",
    "opt = Adam(lr=0.005, beta_1=0.9, beta_2=0.999, decay=0.01)\n",
    "model.compile(optimizer=opt, loss='categorical_crossentropy', metrics=['accuracy'])\n",
    "### END CODE HERE ###"
   ]
  },
  {
   "cell_type": "markdown",
   "metadata": {},
   "source": [
    "The last step is to define all your inputs and outputs to fit the model:\n",
    "- You already have X of shape $(m = 10000, T_x = 30)$ containing the training examples.\n",
    "- You need to create `s0` and `c0` to initialize your `post_activation_LSTM_cell` with 0s.\n",
    "- Given the `model()` you coded, you need the \"outputs\" to be a list of 11 elements of shape (m, T_y). So that: `outputs[i][0], ..., outputs[i][Ty]` represent the true labels (characters) corresponding to the $i^{th}$ training example (`X[i]`). More generally, `outputs[i][j]` is the true label of the $j^{th}$ character in the $i^{th}$ training example."
   ]
  },
  {
   "cell_type": "code",
   "execution_count": 13,
   "metadata": {},
   "outputs": [],
   "source": [
    "s0 = np.zeros((m, n_s))\n",
    "c0 = np.zeros((m, n_s))\n",
    "outputs = list(Yoh.swapaxes(0,1))"
   ]
  },
  {
   "cell_type": "markdown",
   "metadata": {},
   "source": [
    "Let's now fit the model and run it for one epoch."
   ]
  },
  {
   "cell_type": "code",
   "execution_count": 14,
   "metadata": {},
   "outputs": [
    {
     "name": "stdout",
     "output_type": "stream",
     "text": [
      "WARNING:tensorflow:From C:\\ProgramData\\Anaconda3\\lib\\site-packages\\tensorflow\\python\\ops\\math_grad.py:1250: add_dispatch_support.<locals>.wrapper (from tensorflow.python.ops.array_ops) is deprecated and will be removed in a future version.\n",
      "Instructions for updating:\n",
      "Use tf.where in 2.0, which has the same broadcast rule as np.where\n",
      "WARNING:tensorflow:From C:\\ProgramData\\Anaconda3\\lib\\site-packages\\keras\\backend\\tensorflow_backend.py:986: The name tf.assign_add is deprecated. Please use tf.compat.v1.assign_add instead.\n",
      "\n",
      "Epoch 1/1\n"
     ]
    },
    {
     "name": "stdout",
     "output_type": "stream",
     "text": [
      " 2900/10000 [=======>......................] - ETA: 41:06 - loss: 24.0145 - dense_3_loss: 2.3873 - dense_3_acc: 0.2200 - dense_3_acc_1: 0.0800 - dense_3_acc_2: 0.1500 - dense_3_acc_3: 0.1300 - dense_3_acc_4: 0.0000e+00 - dense_3_acc_5: 0.0500 - dense_3_acc_6: 0.1700 - dense_3_acc_7: 0.0000e+00 - dense_3_acc_8: 0.1300 - dense_3_acc_9: 0.14 - ETA: 20:34 - loss: 23.7741 - dense_3_loss: 2.4050 - dense_3_acc: 0.2100 - dense_3_acc_1: 0.2550 - dense_3_acc_2: 0.1600 - dense_3_acc_3: 0.1250 - dense_3_acc_4: 0.0000e+00 - dense_3_acc_5: 0.4050 - dense_3_acc_6: 0.1400 - dense_3_acc_7: 0.0000e+00 - dense_3_acc_8: 0.2450 - dense_3_acc_9: 0.09 - ETA: 13:41 - loss: 23.5205 - dense_3_loss: 2.4149 - dense_3_acc: 0.1400 - dense_3_acc_1: 0.3000 - dense_3_acc_2: 0.1767 - dense_3_acc_3: 0.1167 - dense_3_acc_4: 0.0567 - dense_3_acc_5: 0.4800 - dense_3_acc_6: 0.1067 - dense_3_acc_7: 0.0567 - dense_3_acc_8: 0.2567 - dense_3_acc_9: 0.0933       - ETA: 10:16 - loss: 23.2361 - dense_3_loss: 2.4380 - dense_3_acc: 0.1050 - dense_3_acc_1: 0.3125 - dense_3_acc_2: 0.1750 - dense_3_acc_3: 0.1100 - dense_3_acc_4: 0.0550 - dense_3_acc_5: 0.5325 - dense_3_acc_6: 0.1050 - dense_3_acc_7: 0.0625 - dense_3_acc_8: 0.2625 - dense_3_acc_9: 0.09 - ETA: 8:11 - loss: 22.9877 - dense_3_loss: 2.5310 - dense_3_acc: 0.0840 - dense_3_acc_1: 0.3280 - dense_3_acc_2: 0.1960 - dense_3_acc_3: 0.0980 - dense_3_acc_4: 0.0740 - dense_3_acc_5: 0.5660 - dense_3_acc_6: 0.0960 - dense_3_acc_7: 0.0860 - dense_3_acc_8: 0.2680 - dense_3_acc_9: 0.0860 - ETA: 6:48 - loss: 22.8284 - dense_3_loss: 2.6708 - dense_3_acc: 0.0700 - dense_3_acc_1: 0.3200 - dense_3_acc_2: 0.1717 - dense_3_acc_3: 0.0817 - dense_3_acc_4: 0.2283 - dense_3_acc_5: 0.4717 - dense_3_acc_6: 0.0800 - dense_3_acc_7: 0.2383 - dense_3_acc_8: 0.2233 - dense_3_acc_9: 0.071 - ETA: 5:50 - loss: 22.7133 - dense_3_loss: 2.7626 - dense_3_acc: 0.0600 - dense_3_acc_1: 0.2743 - dense_3_acc_2: 0.1471 - dense_3_acc_3: 0.0700 - dense_3_acc_4: 0.3386 - dense_3_acc_5: 0.4043 - dense_3_acc_6: 0.0686 - dense_3_acc_7: 0.3471 - dense_3_acc_8: 0.1914 - dense_3_acc_9: 0.061 - ETA: 5:07 - loss: 22.5575 - dense_3_loss: 2.7983 - dense_3_acc: 0.0525 - dense_3_acc_1: 0.2400 - dense_3_acc_2: 0.1288 - dense_3_acc_3: 0.0612 - dense_3_acc_4: 0.4213 - dense_3_acc_5: 0.3537 - dense_3_acc_6: 0.0600 - dense_3_acc_7: 0.4288 - dense_3_acc_8: 0.1675 - dense_3_acc_9: 0.053 - ETA: 4:33 - loss: 22.4626 - dense_3_loss: 2.8152 - dense_3_acc: 0.0756 - dense_3_acc_1: 0.2133 - dense_3_acc_2: 0.1144 - dense_3_acc_3: 0.0544 - dense_3_acc_4: 0.4856 - dense_3_acc_5: 0.3144 - dense_3_acc_6: 0.0533 - dense_3_acc_7: 0.4922 - dense_3_acc_8: 0.1489 - dense_3_acc_9: 0.047 - ETA: 4:05 - loss: 22.3638 - dense_3_loss: 2.8146 - dense_3_acc: 0.1110 - dense_3_acc_1: 0.2110 - dense_3_acc_2: 0.1030 - dense_3_acc_3: 0.0490 - dense_3_acc_4: 0.5370 - dense_3_acc_5: 0.2830 - dense_3_acc_6: 0.0480 - dense_3_acc_7: 0.5430 - dense_3_acc_8: 0.1340 - dense_3_acc_9: 0.043 - ETA: 3:42 - loss: 22.2854 - dense_3_loss: 2.8114 - dense_3_acc: 0.1509 - dense_3_acc_1: 0.2064 - dense_3_acc_2: 0.1018 - dense_3_acc_3: 0.0445 - dense_3_acc_4: 0.5791 - dense_3_acc_5: 0.2573 - dense_3_acc_6: 0.0436 - dense_3_acc_7: 0.5845 - dense_3_acc_8: 0.1218 - dense_3_acc_9: 0.039 - ETA: 3:23 - loss: 22.2149 - dense_3_loss: 2.8053 - dense_3_acc: 0.1733 - dense_3_acc_1: 0.2125 - dense_3_acc_2: 0.1133 - dense_3_acc_3: 0.0425 - dense_3_acc_4: 0.6142 - dense_3_acc_5: 0.2358 - dense_3_acc_6: 0.0400 - dense_3_acc_7: 0.6192 - dense_3_acc_8: 0.1117 - dense_3_acc_9: 0.035 - ETA: 3:06 - loss: 22.1556 - dense_3_loss: 2.7949 - dense_3_acc: 0.1892 - dense_3_acc_1: 0.2200 - dense_3_acc_2: 0.1185 - dense_3_acc_3: 0.0469 - dense_3_acc_4: 0.6423 - dense_3_acc_5: 0.2177 - dense_3_acc_6: 0.0369 - dense_3_acc_7: 0.6485 - dense_3_acc_8: 0.1031 - dense_3_acc_9: 0.033 - ETA: 2:52 - loss: 22.0768 - dense_3_loss: 2.7846 - dense_3_acc: 0.1964 - dense_3_acc_1: 0.2279 - dense_3_acc_2: 0.1236 - dense_3_acc_3: 0.0493 - dense_3_acc_4: 0.6421 - dense_3_acc_5: 0.2021 - dense_3_acc_6: 0.0343 - dense_3_acc_7: 0.6736 - dense_3_acc_8: 0.0957 - dense_3_acc_9: 0.030 - ETA: 2:40 - loss: 22.0180 - dense_3_loss: 2.7868 - dense_3_acc: 0.2013 - dense_3_acc_1: 0.2373 - dense_3_acc_2: 0.1267 - dense_3_acc_3: 0.0553 - dense_3_acc_4: 0.6313 - dense_3_acc_5: 0.1907 - dense_3_acc_6: 0.0320 - dense_3_acc_7: 0.6953 - dense_3_acc_8: 0.0893 - dense_3_acc_9: 0.028 - ETA: 2:29 - loss: 21.9665 - dense_3_loss: 2.7871 - dense_3_acc: 0.2012 - dense_3_acc_1: 0.2481 - dense_3_acc_2: 0.1338 - dense_3_acc_3: 0.0581 - dense_3_acc_4: 0.6144 - dense_3_acc_5: 0.1787 - dense_3_acc_6: 0.0300 - dense_3_acc_7: 0.7144 - dense_3_acc_8: 0.0838 - dense_3_acc_9: 0.026 - ETA: 2:20 - loss: 21.8981 - dense_3_loss: 2.7965 - dense_3_acc: 0.2041 - dense_3_acc_1: 0.2624 - dense_3_acc_2: 0.1394 - dense_3_acc_3: 0.0629 - dense_3_acc_4: 0.6341 - dense_3_acc_5: 0.1682 - dense_3_acc_6: 0.0282 - dense_3_acc_7: 0.7312 - dense_3_acc_8: 0.0788 - dense_3_acc_9: 0.025 - ETA: 2:11 - loss: 21.8444 - dense_3_loss: 2.8035 - dense_3_acc: 0.2122 - dense_3_acc_1: 0.2706 - dense_3_acc_2: 0.1406 - dense_3_acc_3: 0.0633 - dense_3_acc_4: 0.6544 - dense_3_acc_5: 0.1589 - dense_3_acc_6: 0.0267 - dense_3_acc_7: 0.7461 - dense_3_acc_8: 0.0744 - dense_3_acc_9: 0.023 - ETA: 2:03 - loss: 21.7910 - dense_3_loss: 2.8063 - dense_3_acc: 0.2263 - dense_3_acc_1: 0.2732 - dense_3_acc_2: 0.1395 - dense_3_acc_3: 0.0621 - dense_3_acc_4: 0.6726 - dense_3_acc_5: 0.1505 - dense_3_acc_6: 0.0253 - dense_3_acc_7: 0.7595 - dense_3_acc_8: 0.0705 - dense_3_acc_9: 0.022 - ETA: 1:56 - loss: 21.7362 - dense_3_loss: 2.8176 - dense_3_acc: 0.2420 - dense_3_acc_1: 0.2755 - dense_3_acc_2: 0.1435 - dense_3_acc_3: 0.0590 - dense_3_acc_4: 0.6890 - dense_3_acc_5: 0.1430 - dense_3_acc_6: 0.0240 - dense_3_acc_7: 0.7715 - dense_3_acc_8: 0.0670 - dense_3_acc_9: 0.021 - ETA: 1:50 - loss: 21.6776 - dense_3_loss: 2.8157 - dense_3_acc: 0.2586 - dense_3_acc_1: 0.2805 - dense_3_acc_2: 0.1467 - dense_3_acc_3: 0.0567 - dense_3_acc_4: 0.7038 - dense_3_acc_5: 0.1362 - dense_3_acc_6: 0.0229 - dense_3_acc_7: 0.7824 - dense_3_acc_8: 0.0638 - dense_3_acc_9: 0.020 - ETA: 1:45 - loss: 21.6315 - dense_3_loss: 2.8178 - dense_3_acc: 0.2732 - dense_3_acc_1: 0.2850 - dense_3_acc_2: 0.1495 - dense_3_acc_3: 0.0582 - dense_3_acc_4: 0.7173 - dense_3_acc_5: 0.1300 - dense_3_acc_6: 0.0218 - dense_3_acc_7: 0.7923 - dense_3_acc_8: 0.0609 - dense_3_acc_9: 0.019 - ETA: 1:39 - loss: 21.5735 - dense_3_loss: 2.8157 - dense_3_acc: 0.2865 - dense_3_acc_1: 0.2900 - dense_3_acc_2: 0.1539 - dense_3_acc_3: 0.0583 - dense_3_acc_4: 0.7296 - dense_3_acc_5: 0.1243 - dense_3_acc_6: 0.0209 - dense_3_acc_7: 0.8013 - dense_3_acc_8: 0.0583 - dense_3_acc_9: 0.018 - ETA: 1:35 - loss: 21.5191 - dense_3_loss: 2.8132 - dense_3_acc: 0.2746 - dense_3_acc_1: 0.2946 - dense_3_acc_2: 0.1546 - dense_3_acc_3: 0.0604 - dense_3_acc_4: 0.7408 - dense_3_acc_5: 0.1192 - dense_3_acc_6: 0.0200 - dense_3_acc_7: 0.8096 - dense_3_acc_8: 0.0558 - dense_3_acc_9: 0.017 - ETA: 1:30 - loss: 21.4622 - dense_3_loss: 2.8100 - dense_3_acc: 0.2636 - dense_3_acc_1: 0.3104 - dense_3_acc_2: 0.1572 - dense_3_acc_3: 0.0620 - dense_3_acc_4: 0.7512 - dense_3_acc_5: 0.1144 - dense_3_acc_6: 0.0192 - dense_3_acc_7: 0.8172 - dense_3_acc_8: 0.0536 - dense_3_acc_9: 0.017 - ETA: 1:26 - loss: 21.4086 - dense_3_loss: 2.8061 - dense_3_acc: 0.2535 - dense_3_acc_1: 0.3215 - dense_3_acc_2: 0.1596 - dense_3_acc_3: 0.0638 - dense_3_acc_4: 0.7608 - dense_3_acc_5: 0.1100 - dense_3_acc_6: 0.0185 - dense_3_acc_7: 0.8242 - dense_3_acc_8: 0.0515 - dense_3_acc_9: 0.018 - ETA: 1:22 - loss: 21.3541 - dense_3_loss: 2.8038 - dense_3_acc: 0.2441 - dense_3_acc_1: 0.3330 - dense_3_acc_2: 0.1600 - dense_3_acc_3: 0.0637 - dense_3_acc_4: 0.7696 - dense_3_acc_5: 0.1059 - dense_3_acc_6: 0.0178 - dense_3_acc_7: 0.8307 - dense_3_acc_8: 0.0500 - dense_3_acc_9: 0.019 - ETA: 1:19 - loss: 21.3001 - dense_3_loss: 2.8038 - dense_3_acc: 0.2354 - dense_3_acc_1: 0.3414 - dense_3_acc_2: 0.1632 - dense_3_acc_3: 0.0614 - dense_3_acc_4: 0.7779 - dense_3_acc_5: 0.1021 - dense_3_acc_6: 0.0171 - dense_3_acc_7: 0.8368 - dense_3_acc_8: 0.0504 - dense_3_acc_9: 0.022 - ETA: 1:16 - loss: 21.2516 - dense_3_loss: 2.8013 - dense_3_acc: 0.2272 - dense_3_acc_1: 0.3507 - dense_3_acc_2: 0.1652 - dense_3_acc_3: 0.0593 - dense_3_acc_4: 0.7855 - dense_3_acc_5: 0.0986 - dense_3_acc_6: 0.0166 - dense_3_acc_7: 0.8424 - dense_3_acc_8: 0.0528 - dense_3_acc_9: 0.0252"
     ]
    },
    {
     "name": "stdout",
     "output_type": "stream",
     "text": [
      " 5800/10000 [================>.............] - ETA: 1:13 - loss: 21.1982 - dense_3_loss: 2.8039 - dense_3_acc: 0.2197 - dense_3_acc_1: 0.3590 - dense_3_acc_2: 0.1673 - dense_3_acc_3: 0.0573 - dense_3_acc_4: 0.7927 - dense_3_acc_5: 0.0953 - dense_3_acc_6: 0.0160 - dense_3_acc_7: 0.8477 - dense_3_acc_8: 0.0557 - dense_3_acc_9: 0.026 - ETA: 1:10 - loss: 21.1458 - dense_3_loss: 2.8092 - dense_3_acc: 0.2174 - dense_3_acc_1: 0.3661 - dense_3_acc_2: 0.1719 - dense_3_acc_3: 0.0555 - dense_3_acc_4: 0.7994 - dense_3_acc_5: 0.0923 - dense_3_acc_6: 0.0155 - dense_3_acc_7: 0.8439 - dense_3_acc_8: 0.0652 - dense_3_acc_9: 0.028 - ETA: 1:07 - loss: 21.0939 - dense_3_loss: 2.8078 - dense_3_acc: 0.2222 - dense_3_acc_1: 0.3719 - dense_3_acc_2: 0.1728 - dense_3_acc_3: 0.0538 - dense_3_acc_4: 0.8056 - dense_3_acc_5: 0.0894 - dense_3_acc_6: 0.0150 - dense_3_acc_7: 0.8303 - dense_3_acc_8: 0.0734 - dense_3_acc_9: 0.032 - ETA: 1:05 - loss: 21.0394 - dense_3_loss: 2.8086 - dense_3_acc: 0.2303 - dense_3_acc_1: 0.3764 - dense_3_acc_2: 0.1748 - dense_3_acc_3: 0.0521 - dense_3_acc_4: 0.8115 - dense_3_acc_5: 0.0867 - dense_3_acc_6: 0.0145 - dense_3_acc_7: 0.8309 - dense_3_acc_8: 0.0803 - dense_3_acc_9: 0.035 - ETA: 1:02 - loss: 20.9820 - dense_3_loss: 2.8126 - dense_3_acc: 0.2432 - dense_3_acc_1: 0.3850 - dense_3_acc_2: 0.1747 - dense_3_acc_3: 0.0524 - dense_3_acc_4: 0.8171 - dense_3_acc_5: 0.0841 - dense_3_acc_6: 0.0141 - dense_3_acc_7: 0.8326 - dense_3_acc_8: 0.0832 - dense_3_acc_9: 0.036 - ETA: 1:00 - loss: 20.9173 - dense_3_loss: 2.8109 - dense_3_acc: 0.2560 - dense_3_acc_1: 0.3937 - dense_3_acc_2: 0.1766 - dense_3_acc_3: 0.0526 - dense_3_acc_4: 0.8223 - dense_3_acc_5: 0.0817 - dense_3_acc_6: 0.0137 - dense_3_acc_7: 0.8309 - dense_3_acc_8: 0.0869 - dense_3_acc_9: 0.039 - ETA: 58s - loss: 20.8522 - dense_3_loss: 2.8107 - dense_3_acc: 0.2650 - dense_3_acc_1: 0.3989 - dense_3_acc_2: 0.1781 - dense_3_acc_3: 0.0550 - dense_3_acc_4: 0.8272 - dense_3_acc_5: 0.0794 - dense_3_acc_6: 0.0133 - dense_3_acc_7: 0.8325 - dense_3_acc_8: 0.0872 - dense_3_acc_9: 0.040 - ETA: 56s - loss: 20.7956 - dense_3_loss: 2.8082 - dense_3_acc: 0.2724 - dense_3_acc_1: 0.4027 - dense_3_acc_2: 0.1795 - dense_3_acc_3: 0.0538 - dense_3_acc_4: 0.8319 - dense_3_acc_5: 0.0773 - dense_3_acc_6: 0.0141 - dense_3_acc_7: 0.8268 - dense_3_acc_8: 0.0935 - dense_3_acc_9: 0.04 - ETA: 54s - loss: 20.7496 - dense_3_loss: 2.8115 - dense_3_acc: 0.2779 - dense_3_acc_1: 0.4047 - dense_3_acc_2: 0.1813 - dense_3_acc_3: 0.0537 - dense_3_acc_4: 0.8363 - dense_3_acc_5: 0.0753 - dense_3_acc_6: 0.0137 - dense_3_acc_7: 0.8289 - dense_3_acc_8: 0.0939 - dense_3_acc_9: 0.04 - ETA: 52s - loss: 20.6943 - dense_3_loss: 2.8134 - dense_3_acc: 0.2877 - dense_3_acc_1: 0.4113 - dense_3_acc_2: 0.1813 - dense_3_acc_3: 0.0562 - dense_3_acc_4: 0.8405 - dense_3_acc_5: 0.0733 - dense_3_acc_6: 0.0133 - dense_3_acc_7: 0.8315 - dense_3_acc_8: 0.0923 - dense_3_acc_9: 0.04 - ETA: 50s - loss: 20.6349 - dense_3_loss: 2.8109 - dense_3_acc: 0.2943 - dense_3_acc_1: 0.4148 - dense_3_acc_2: 0.1832 - dense_3_acc_3: 0.0575 - dense_3_acc_4: 0.8445 - dense_3_acc_5: 0.0715 - dense_3_acc_6: 0.0140 - dense_3_acc_7: 0.8210 - dense_3_acc_8: 0.0978 - dense_3_acc_9: 0.04 - ETA: 48s - loss: 20.5882 - dense_3_loss: 2.8159 - dense_3_acc: 0.3005 - dense_3_acc_1: 0.4180 - dense_3_acc_2: 0.1851 - dense_3_acc_3: 0.0588 - dense_3_acc_4: 0.8483 - dense_3_acc_5: 0.0698 - dense_3_acc_6: 0.0141 - dense_3_acc_7: 0.8159 - dense_3_acc_8: 0.1012 - dense_3_acc_9: 0.04 - ETA: 47s - loss: 20.5354 - dense_3_loss: 2.8184 - dense_3_acc: 0.3064 - dense_3_acc_1: 0.4212 - dense_3_acc_2: 0.1883 - dense_3_acc_3: 0.0605 - dense_3_acc_4: 0.8519 - dense_3_acc_5: 0.0681 - dense_3_acc_6: 0.0138 - dense_3_acc_7: 0.8202 - dense_3_acc_8: 0.1007 - dense_3_acc_9: 0.04 - ETA: 45s - loss: 20.4791 - dense_3_loss: 2.8183 - dense_3_acc: 0.3147 - dense_3_acc_1: 0.4267 - dense_3_acc_2: 0.1898 - dense_3_acc_3: 0.0602 - dense_3_acc_4: 0.8553 - dense_3_acc_5: 0.0665 - dense_3_acc_6: 0.0135 - dense_3_acc_7: 0.8244 - dense_3_acc_8: 0.1002 - dense_3_acc_9: 0.04 - ETA: 44s - loss: 20.4223 - dense_3_loss: 2.8163 - dense_3_acc: 0.3214 - dense_3_acc_1: 0.4309 - dense_3_acc_2: 0.1932 - dense_3_acc_3: 0.0589 - dense_3_acc_4: 0.8586 - dense_3_acc_5: 0.0650 - dense_3_acc_6: 0.0132 - dense_3_acc_7: 0.8248 - dense_3_acc_8: 0.1016 - dense_3_acc_9: 0.04 - ETA: 42s - loss: 20.3685 - dense_3_loss: 2.8169 - dense_3_acc: 0.3280 - dense_3_acc_1: 0.4351 - dense_3_acc_2: 0.1960 - dense_3_acc_3: 0.0576 - dense_3_acc_4: 0.8618 - dense_3_acc_5: 0.0636 - dense_3_acc_6: 0.0129 - dense_3_acc_7: 0.8227 - dense_3_acc_8: 0.1031 - dense_3_acc_9: 0.04 - ETA: 41s - loss: 20.3089 - dense_3_loss: 2.8149 - dense_3_acc: 0.3339 - dense_3_acc_1: 0.4387 - dense_3_acc_2: 0.1991 - dense_3_acc_3: 0.0576 - dense_3_acc_4: 0.8648 - dense_3_acc_5: 0.0622 - dense_3_acc_6: 0.0126 - dense_3_acc_7: 0.8246 - dense_3_acc_8: 0.1043 - dense_3_acc_9: 0.05 - ETA: 39s - loss: 20.2590 - dense_3_loss: 2.8142 - dense_3_acc: 0.3383 - dense_3_acc_1: 0.4409 - dense_3_acc_2: 0.1994 - dense_3_acc_3: 0.0594 - dense_3_acc_4: 0.8677 - dense_3_acc_5: 0.0609 - dense_3_acc_6: 0.0123 - dense_3_acc_7: 0.8251 - dense_3_acc_8: 0.1070 - dense_3_acc_9: 0.05 - ETA: 38s - loss: 20.2011 - dense_3_loss: 2.8125 - dense_3_acc: 0.3442 - dense_3_acc_1: 0.4446 - dense_3_acc_2: 0.2006 - dense_3_acc_3: 0.0594 - dense_3_acc_4: 0.8704 - dense_3_acc_5: 0.0596 - dense_3_acc_6: 0.0121 - dense_3_acc_7: 0.8267 - dense_3_acc_8: 0.1098 - dense_3_acc_9: 0.05 - ETA: 36s - loss: 20.1430 - dense_3_loss: 2.8134 - dense_3_acc: 0.3500 - dense_3_acc_1: 0.4484 - dense_3_acc_2: 0.2039 - dense_3_acc_3: 0.0582 - dense_3_acc_4: 0.8731 - dense_3_acc_5: 0.0584 - dense_3_acc_6: 0.0118 - dense_3_acc_7: 0.8300 - dense_3_acc_8: 0.1135 - dense_3_acc_9: 0.05 - ETA: 35s - loss: 20.0864 - dense_3_loss: 2.8138 - dense_3_acc: 0.3568 - dense_3_acc_1: 0.4532 - dense_3_acc_2: 0.2050 - dense_3_acc_3: 0.0570 - dense_3_acc_4: 0.8756 - dense_3_acc_5: 0.0572 - dense_3_acc_6: 0.0116 - dense_3_acc_7: 0.8310 - dense_3_acc_8: 0.1172 - dense_3_acc_9: 0.05 - ETA: 34s - loss: 20.0311 - dense_3_loss: 2.8140 - dense_3_acc: 0.3627 - dense_3_acc_1: 0.4573 - dense_3_acc_2: 0.2061 - dense_3_acc_3: 0.0559 - dense_3_acc_4: 0.8780 - dense_3_acc_5: 0.0561 - dense_3_acc_6: 0.0114 - dense_3_acc_7: 0.8296 - dense_3_acc_8: 0.1198 - dense_3_acc_9: 0.05 - ETA: 33s - loss: 19.9770 - dense_3_loss: 2.8141 - dense_3_acc: 0.3687 - dense_3_acc_1: 0.4613 - dense_3_acc_2: 0.2065 - dense_3_acc_3: 0.0548 - dense_3_acc_4: 0.8804 - dense_3_acc_5: 0.0550 - dense_3_acc_6: 0.0119 - dense_3_acc_7: 0.8294 - dense_3_acc_8: 0.1215 - dense_3_acc_9: 0.05 - ETA: 32s - loss: 19.9241 - dense_3_loss: 2.8109 - dense_3_acc: 0.3730 - dense_3_acc_1: 0.4640 - dense_3_acc_2: 0.2058 - dense_3_acc_3: 0.0538 - dense_3_acc_4: 0.8826 - dense_3_acc_5: 0.0557 - dense_3_acc_6: 0.0125 - dense_3_acc_7: 0.8302 - dense_3_acc_8: 0.1236 - dense_3_acc_9: 0.05 - ETA: 31s - loss: 19.8696 - dense_3_loss: 2.8078 - dense_3_acc: 0.3776 - dense_3_acc_1: 0.4669 - dense_3_acc_2: 0.2072 - dense_3_acc_3: 0.0528 - dense_3_acc_4: 0.8848 - dense_3_acc_5: 0.0574 - dense_3_acc_6: 0.0122 - dense_3_acc_7: 0.8315 - dense_3_acc_8: 0.1276 - dense_3_acc_9: 0.06 - ETA: 30s - loss: 19.8187 - dense_3_loss: 2.8061 - dense_3_acc: 0.3815 - dense_3_acc_1: 0.4691 - dense_3_acc_2: 0.2093 - dense_3_acc_3: 0.0518 - dense_3_acc_4: 0.8869 - dense_3_acc_5: 0.0618 - dense_3_acc_6: 0.0127 - dense_3_acc_7: 0.8336 - dense_3_acc_8: 0.1300 - dense_3_acc_9: 0.06 - ETA: 28s - loss: 19.7619 - dense_3_loss: 2.8037 - dense_3_acc: 0.3857 - dense_3_acc_1: 0.4718 - dense_3_acc_2: 0.2104 - dense_3_acc_3: 0.0532 - dense_3_acc_4: 0.8889 - dense_3_acc_5: 0.0743 - dense_3_acc_6: 0.0150 - dense_3_acc_7: 0.8366 - dense_3_acc_8: 0.1339 - dense_3_acc_9: 0.06 - ETA: 27s - loss: 19.7010 - dense_3_loss: 2.8007 - dense_3_acc: 0.3900 - dense_3_acc_1: 0.4746 - dense_3_acc_2: 0.2139 - dense_3_acc_3: 0.0544 - dense_3_acc_4: 0.8909 - dense_3_acc_5: 0.0798 - dense_3_acc_6: 0.0170 - dense_3_acc_7: 0.8395 - dense_3_acc_8: 0.1367 - dense_3_acc_9: 0.06 - ETA: 26s - loss: 19.6408 - dense_3_loss: 2.7982 - dense_3_acc: 0.3929 - dense_3_acc_1: 0.4760 - dense_3_acc_2: 0.2169 - dense_3_acc_3: 0.0540 - dense_3_acc_4: 0.8928 - dense_3_acc_5: 0.0914 - dense_3_acc_6: 0.0172 - dense_3_acc_7: 0.8422 - dense_3_acc_8: 0.1403 - dense_3_acc_9: 0.0640"
     ]
    },
    {
     "name": "stdout",
     "output_type": "stream",
     "text": [
      " 8700/10000 [=========================>....] - ETA: 26s - loss: 19.5829 - dense_3_loss: 2.7957 - dense_3_acc: 0.3969 - dense_3_acc_1: 0.4786 - dense_3_acc_2: 0.2192 - dense_3_acc_3: 0.0531 - dense_3_acc_4: 0.8946 - dense_3_acc_5: 0.1044 - dense_3_acc_6: 0.0169 - dense_3_acc_7: 0.8449 - dense_3_acc_8: 0.1402 - dense_3_acc_9: 0.06 - ETA: 25s - loss: 19.5188 - dense_3_loss: 2.7926 - dense_3_acc: 0.4008 - dense_3_acc_1: 0.4812 - dense_3_acc_2: 0.2190 - dense_3_acc_3: 0.0528 - dense_3_acc_4: 0.8963 - dense_3_acc_5: 0.1165 - dense_3_acc_6: 0.0177 - dense_3_acc_7: 0.8475 - dense_3_acc_8: 0.1420 - dense_3_acc_9: 0.06 - ETA: 24s - loss: 19.4603 - dense_3_loss: 2.7898 - dense_3_acc: 0.4028 - dense_3_acc_1: 0.4818 - dense_3_acc_2: 0.2189 - dense_3_acc_3: 0.0531 - dense_3_acc_4: 0.8980 - dense_3_acc_5: 0.1266 - dense_3_acc_6: 0.0182 - dense_3_acc_7: 0.8500 - dense_3_acc_8: 0.1454 - dense_3_acc_9: 0.06 - ETA: 23s - loss: 19.3878 - dense_3_loss: 2.7874 - dense_3_acc: 0.4071 - dense_3_acc_1: 0.4848 - dense_3_acc_2: 0.2198 - dense_3_acc_3: 0.0524 - dense_3_acc_4: 0.8997 - dense_3_acc_5: 0.1390 - dense_3_acc_6: 0.0197 - dense_3_acc_7: 0.8524 - dense_3_acc_8: 0.1503 - dense_3_acc_9: 0.06 - ETA: 22s - loss: 19.3129 - dense_3_loss: 2.7830 - dense_3_acc: 0.4105 - dense_3_acc_1: 0.4870 - dense_3_acc_2: 0.2217 - dense_3_acc_3: 0.0516 - dense_3_acc_4: 0.9013 - dense_3_acc_5: 0.1514 - dense_3_acc_6: 0.0211 - dense_3_acc_7: 0.8548 - dense_3_acc_8: 0.1532 - dense_3_acc_9: 0.06 - ETA: 21s - loss: 19.2398 - dense_3_loss: 2.7788 - dense_3_acc: 0.4147 - dense_3_acc_1: 0.4900 - dense_3_acc_2: 0.2233 - dense_3_acc_3: 0.0523 - dense_3_acc_4: 0.9028 - dense_3_acc_5: 0.1631 - dense_3_acc_6: 0.0219 - dense_3_acc_7: 0.8570 - dense_3_acc_8: 0.1567 - dense_3_acc_9: 0.06 - ETA: 20s - loss: 19.1587 - dense_3_loss: 2.7736 - dense_3_acc: 0.4171 - dense_3_acc_1: 0.4912 - dense_3_acc_2: 0.2254 - dense_3_acc_3: 0.0542 - dense_3_acc_4: 0.9043 - dense_3_acc_5: 0.1742 - dense_3_acc_6: 0.0232 - dense_3_acc_7: 0.8592 - dense_3_acc_8: 0.1618 - dense_3_acc_9: 0.06 - ETA: 19s - loss: 19.0776 - dense_3_loss: 2.7670 - dense_3_acc: 0.4211 - dense_3_acc_1: 0.4941 - dense_3_acc_2: 0.2268 - dense_3_acc_3: 0.0550 - dense_3_acc_4: 0.9058 - dense_3_acc_5: 0.1850 - dense_3_acc_6: 0.0252 - dense_3_acc_7: 0.8614 - dense_3_acc_8: 0.1645 - dense_3_acc_9: 0.07 - ETA: 19s - loss: 19.0020 - dense_3_loss: 2.7618 - dense_3_acc: 0.4231 - dense_3_acc_1: 0.4951 - dense_3_acc_2: 0.2285 - dense_3_acc_3: 0.0546 - dense_3_acc_4: 0.9072 - dense_3_acc_5: 0.1951 - dense_3_acc_6: 0.0254 - dense_3_acc_7: 0.8634 - dense_3_acc_8: 0.1676 - dense_3_acc_9: 0.07 - ETA: 18s - loss: 18.9251 - dense_3_loss: 2.7547 - dense_3_acc: 0.4254 - dense_3_acc_1: 0.4968 - dense_3_acc_2: 0.2296 - dense_3_acc_3: 0.0549 - dense_3_acc_4: 0.9085 - dense_3_acc_5: 0.2038 - dense_3_acc_6: 0.0257 - dense_3_acc_7: 0.8654 - dense_3_acc_8: 0.1706 - dense_3_acc_9: 0.07 - ETA: 17s - loss: 18.8476 - dense_3_loss: 2.7502 - dense_3_acc: 0.4287 - dense_3_acc_1: 0.4994 - dense_3_acc_2: 0.2317 - dense_3_acc_3: 0.0555 - dense_3_acc_4: 0.9099 - dense_3_acc_5: 0.2136 - dense_3_acc_6: 0.0262 - dense_3_acc_7: 0.8674 - dense_3_acc_8: 0.1738 - dense_3_acc_9: 0.07 - ETA: 16s - loss: 18.7676 - dense_3_loss: 2.7445 - dense_3_acc: 0.4299 - dense_3_acc_1: 0.5003 - dense_3_acc_2: 0.2343 - dense_3_acc_3: 0.0560 - dense_3_acc_4: 0.9111 - dense_3_acc_5: 0.2237 - dense_3_acc_6: 0.0271 - dense_3_acc_7: 0.8693 - dense_3_acc_8: 0.1771 - dense_3_acc_9: 0.07 - ETA: 16s - loss: 18.6880 - dense_3_loss: 2.7389 - dense_3_acc: 0.4318 - dense_3_acc_1: 0.5018 - dense_3_acc_2: 0.2345 - dense_3_acc_3: 0.0555 - dense_3_acc_4: 0.9124 - dense_3_acc_5: 0.2338 - dense_3_acc_6: 0.0275 - dense_3_acc_7: 0.8711 - dense_3_acc_8: 0.1806 - dense_3_acc_9: 0.07 - ETA: 15s - loss: 18.6075 - dense_3_loss: 2.7339 - dense_3_acc: 0.4338 - dense_3_acc_1: 0.5042 - dense_3_acc_2: 0.2364 - dense_3_acc_3: 0.0553 - dense_3_acc_4: 0.9136 - dense_3_acc_5: 0.2426 - dense_3_acc_6: 0.0281 - dense_3_acc_7: 0.8729 - dense_3_acc_8: 0.1835 - dense_3_acc_9: 0.07 - ETA: 14s - loss: 18.5268 - dense_3_loss: 2.7306 - dense_3_acc: 0.4358 - dense_3_acc_1: 0.5073 - dense_3_acc_2: 0.2373 - dense_3_acc_3: 0.0566 - dense_3_acc_4: 0.9148 - dense_3_acc_5: 0.2510 - dense_3_acc_6: 0.0295 - dense_3_acc_7: 0.8747 - dense_3_acc_8: 0.1877 - dense_3_acc_9: 0.07 - ETA: 14s - loss: 18.4419 - dense_3_loss: 2.7246 - dense_3_acc: 0.4388 - dense_3_acc_1: 0.5105 - dense_3_acc_2: 0.2389 - dense_3_acc_3: 0.0582 - dense_3_acc_4: 0.9159 - dense_3_acc_5: 0.2600 - dense_3_acc_6: 0.0304 - dense_3_acc_7: 0.8764 - dense_3_acc_8: 0.1912 - dense_3_acc_9: 0.07 - ETA: 13s - loss: 18.3596 - dense_3_loss: 2.7185 - dense_3_acc: 0.4420 - dense_3_acc_1: 0.5137 - dense_3_acc_2: 0.2395 - dense_3_acc_3: 0.0588 - dense_3_acc_4: 0.9171 - dense_3_acc_5: 0.2683 - dense_3_acc_6: 0.0317 - dense_3_acc_7: 0.8780 - dense_3_acc_8: 0.1948 - dense_3_acc_9: 0.08 - ETA: 12s - loss: 18.2804 - dense_3_loss: 2.7137 - dense_3_acc: 0.4437 - dense_3_acc_1: 0.5161 - dense_3_acc_2: 0.2404 - dense_3_acc_3: 0.0589 - dense_3_acc_4: 0.9182 - dense_3_acc_5: 0.2767 - dense_3_acc_6: 0.0328 - dense_3_acc_7: 0.8796 - dense_3_acc_8: 0.1972 - dense_3_acc_9: 0.08 - ETA: 12s - loss: 18.2009 - dense_3_loss: 2.7071 - dense_3_acc: 0.4461 - dense_3_acc_1: 0.5208 - dense_3_acc_2: 0.2418 - dense_3_acc_3: 0.0588 - dense_3_acc_4: 0.9192 - dense_3_acc_5: 0.2844 - dense_3_acc_6: 0.0335 - dense_3_acc_7: 0.8812 - dense_3_acc_8: 0.2009 - dense_3_acc_9: 0.08 - ETA: 11s - loss: 18.1231 - dense_3_loss: 2.7034 - dense_3_acc: 0.4485 - dense_3_acc_1: 0.5247 - dense_3_acc_2: 0.2422 - dense_3_acc_3: 0.0595 - dense_3_acc_4: 0.9203 - dense_3_acc_5: 0.2926 - dense_3_acc_6: 0.0347 - dense_3_acc_7: 0.8827 - dense_3_acc_8: 0.2032 - dense_3_acc_9: 0.08 - ETA: 10s - loss: 18.0466 - dense_3_loss: 2.6989 - dense_3_acc: 0.4508 - dense_3_acc_1: 0.5280 - dense_3_acc_2: 0.2432 - dense_3_acc_3: 0.0597 - dense_3_acc_4: 0.9213 - dense_3_acc_5: 0.3003 - dense_3_acc_6: 0.0362 - dense_3_acc_7: 0.8842 - dense_3_acc_8: 0.2056 - dense_3_acc_9: 0.08 - ETA: 10s - loss: 17.9706 - dense_3_loss: 2.6936 - dense_3_acc: 0.4520 - dense_3_acc_1: 0.5296 - dense_3_acc_2: 0.2447 - dense_3_acc_3: 0.0604 - dense_3_acc_4: 0.9223 - dense_3_acc_5: 0.3066 - dense_3_acc_6: 0.0380 - dense_3_acc_7: 0.8856 - dense_3_acc_8: 0.2081 - dense_3_acc_9: 0.08 - ETA: 9s - loss: 17.8942 - dense_3_loss: 2.6903 - dense_3_acc: 0.4544 - dense_3_acc_1: 0.5327 - dense_3_acc_2: 0.2462 - dense_3_acc_3: 0.0616 - dense_3_acc_4: 0.9232 - dense_3_acc_5: 0.3137 - dense_3_acc_6: 0.0398 - dense_3_acc_7: 0.8870 - dense_3_acc_8: 0.2111 - dense_3_acc_9: 0.0838 - ETA: 9s - loss: 17.8183 - dense_3_loss: 2.6866 - dense_3_acc: 0.4571 - dense_3_acc_1: 0.5367 - dense_3_acc_2: 0.2474 - dense_3_acc_3: 0.0622 - dense_3_acc_4: 0.9241 - dense_3_acc_5: 0.3201 - dense_3_acc_6: 0.0417 - dense_3_acc_7: 0.8884 - dense_3_acc_8: 0.2141 - dense_3_acc_9: 0.083 - ETA: 8s - loss: 17.7411 - dense_3_loss: 2.6827 - dense_3_acc: 0.4594 - dense_3_acc_1: 0.5416 - dense_3_acc_2: 0.2493 - dense_3_acc_3: 0.0634 - dense_3_acc_4: 0.9251 - dense_3_acc_5: 0.3272 - dense_3_acc_6: 0.0425 - dense_3_acc_7: 0.8898 - dense_3_acc_8: 0.2169 - dense_3_acc_9: 0.083 - ETA: 8s - loss: 17.6656 - dense_3_loss: 2.6772 - dense_3_acc: 0.4621 - dense_3_acc_1: 0.5457 - dense_3_acc_2: 0.2512 - dense_3_acc_3: 0.0640 - dense_3_acc_4: 0.9260 - dense_3_acc_5: 0.3337 - dense_3_acc_6: 0.0443 - dense_3_acc_7: 0.8911 - dense_3_acc_8: 0.2181 - dense_3_acc_9: 0.085 - ETA: 7s - loss: 17.5933 - dense_3_loss: 2.6721 - dense_3_acc: 0.4639 - dense_3_acc_1: 0.5491 - dense_3_acc_2: 0.2519 - dense_3_acc_3: 0.0647 - dense_3_acc_4: 0.9268 - dense_3_acc_5: 0.3401 - dense_3_acc_6: 0.0469 - dense_3_acc_7: 0.8924 - dense_3_acc_8: 0.2209 - dense_3_acc_9: 0.085 - ETA: 6s - loss: 17.5224 - dense_3_loss: 2.6688 - dense_3_acc: 0.4659 - dense_3_acc_1: 0.5526 - dense_3_acc_2: 0.2540 - dense_3_acc_3: 0.0658 - dense_3_acc_4: 0.9277 - dense_3_acc_5: 0.3462 - dense_3_acc_6: 0.0497 - dense_3_acc_7: 0.8936 - dense_3_acc_8: 0.2233 - dense_3_acc_9: 0.085 - ETA: 6s - loss: 17.4497 - dense_3_loss: 2.6640 - dense_3_acc: 0.4686 - dense_3_acc_1: 0.5566 - dense_3_acc_2: 0.2554 - dense_3_acc_3: 0.0671 - dense_3_acc_4: 0.9285 - dense_3_acc_5: 0.3526 - dense_3_acc_6: 0.0518 - dense_3_acc_7: 0.8948 - dense_3_acc_8: 0.2248 - dense_3_acc_9: 0.0867"
     ]
    },
    {
     "name": "stdout",
     "output_type": "stream",
     "text": [
      "10000/10000 [==============================] - ETA: 5s - loss: 17.3785 - dense_3_loss: 2.6598 - dense_3_acc: 0.4719 - dense_3_acc_1: 0.5609 - dense_3_acc_2: 0.2569 - dense_3_acc_3: 0.0675 - dense_3_acc_4: 0.9293 - dense_3_acc_5: 0.3584 - dense_3_acc_6: 0.0539 - dense_3_acc_7: 0.8960 - dense_3_acc_8: 0.2283 - dense_3_acc_9: 0.088 - ETA: 5s - loss: 17.3087 - dense_3_loss: 2.6555 - dense_3_acc: 0.4744 - dense_3_acc_1: 0.5652 - dense_3_acc_2: 0.2588 - dense_3_acc_3: 0.0682 - dense_3_acc_4: 0.9301 - dense_3_acc_5: 0.3643 - dense_3_acc_6: 0.0551 - dense_3_acc_7: 0.8972 - dense_3_acc_8: 0.2297 - dense_3_acc_9: 0.089 - ETA: 4s - loss: 17.2403 - dense_3_loss: 2.6518 - dense_3_acc: 0.4758 - dense_3_acc_1: 0.5686 - dense_3_acc_2: 0.2610 - dense_3_acc_3: 0.0684 - dense_3_acc_4: 0.9309 - dense_3_acc_5: 0.3697 - dense_3_acc_6: 0.0572 - dense_3_acc_7: 0.8983 - dense_3_acc_8: 0.2323 - dense_3_acc_9: 0.089 - ETA: 4s - loss: 17.1766 - dense_3_loss: 2.6494 - dense_3_acc: 0.4771 - dense_3_acc_1: 0.5712 - dense_3_acc_2: 0.2626 - dense_3_acc_3: 0.0690 - dense_3_acc_4: 0.9316 - dense_3_acc_5: 0.3756 - dense_3_acc_6: 0.0587 - dense_3_acc_7: 0.8995 - dense_3_acc_8: 0.2348 - dense_3_acc_9: 0.089 - ETA: 3s - loss: 17.1127 - dense_3_loss: 2.6464 - dense_3_acc: 0.4782 - dense_3_acc_1: 0.5746 - dense_3_acc_2: 0.2641 - dense_3_acc_3: 0.0700 - dense_3_acc_4: 0.9324 - dense_3_acc_5: 0.3811 - dense_3_acc_6: 0.0603 - dense_3_acc_7: 0.9005 - dense_3_acc_8: 0.2371 - dense_3_acc_9: 0.089 - ETA: 3s - loss: 17.0482 - dense_3_loss: 2.6436 - dense_3_acc: 0.4811 - dense_3_acc_1: 0.5784 - dense_3_acc_2: 0.2655 - dense_3_acc_3: 0.0706 - dense_3_acc_4: 0.9331 - dense_3_acc_5: 0.3862 - dense_3_acc_6: 0.0624 - dense_3_acc_7: 0.9016 - dense_3_acc_8: 0.2383 - dense_3_acc_9: 0.090 - ETA: 2s - loss: 16.9813 - dense_3_loss: 2.6394 - dense_3_acc: 0.4840 - dense_3_acc_1: 0.5826 - dense_3_acc_2: 0.2665 - dense_3_acc_3: 0.0713 - dense_3_acc_4: 0.9338 - dense_3_acc_5: 0.3917 - dense_3_acc_6: 0.0641 - dense_3_acc_7: 0.9027 - dense_3_acc_8: 0.2404 - dense_3_acc_9: 0.091 - ETA: 2s - loss: 16.9161 - dense_3_loss: 2.6356 - dense_3_acc: 0.4858 - dense_3_acc_1: 0.5862 - dense_3_acc_2: 0.2686 - dense_3_acc_3: 0.0719 - dense_3_acc_4: 0.9345 - dense_3_acc_5: 0.3956 - dense_3_acc_6: 0.0662 - dense_3_acc_7: 0.9037 - dense_3_acc_8: 0.2412 - dense_3_acc_9: 0.091 - ETA: 1s - loss: 16.8537 - dense_3_loss: 2.6312 - dense_3_acc: 0.4876 - dense_3_acc_1: 0.5889 - dense_3_acc_2: 0.2701 - dense_3_acc_3: 0.0727 - dense_3_acc_4: 0.9352 - dense_3_acc_5: 0.4007 - dense_3_acc_6: 0.0675 - dense_3_acc_7: 0.9047 - dense_3_acc_8: 0.2420 - dense_3_acc_9: 0.091 - ETA: 1s - loss: 16.7894 - dense_3_loss: 2.6273 - dense_3_acc: 0.4903 - dense_3_acc_1: 0.5924 - dense_3_acc_2: 0.2715 - dense_3_acc_3: 0.0740 - dense_3_acc_4: 0.9359 - dense_3_acc_5: 0.4056 - dense_3_acc_6: 0.0691 - dense_3_acc_7: 0.9057 - dense_3_acc_8: 0.2440 - dense_3_acc_9: 0.092 - ETA: 0s - loss: 16.7285 - dense_3_loss: 2.6241 - dense_3_acc: 0.4942 - dense_3_acc_1: 0.5959 - dense_3_acc_2: 0.2733 - dense_3_acc_3: 0.0740 - dense_3_acc_4: 0.9365 - dense_3_acc_5: 0.4109 - dense_3_acc_6: 0.0714 - dense_3_acc_7: 0.9066 - dense_3_acc_8: 0.2451 - dense_3_acc_9: 0.092 - ETA: 0s - loss: 16.6675 - dense_3_loss: 2.6198 - dense_3_acc: 0.4985 - dense_3_acc_1: 0.5994 - dense_3_acc_2: 0.2746 - dense_3_acc_3: 0.0743 - dense_3_acc_4: 0.9372 - dense_3_acc_5: 0.4155 - dense_3_acc_6: 0.0727 - dense_3_acc_7: 0.9076 - dense_3_acc_8: 0.2469 - dense_3_acc_9: 0.093 - 45s 5ms/step - loss: 16.6050 - dense_3_loss: 2.6157 - dense_3_acc: 0.5022 - dense_3_acc_1: 0.6031 - dense_3_acc_2: 0.2760 - dense_3_acc_3: 0.0754 - dense_3_acc_4: 0.9378 - dense_3_acc_5: 0.4200 - dense_3_acc_6: 0.0754 - dense_3_acc_7: 0.9085 - dense_3_acc_8: 0.2483 - dense_3_acc_9: 0.0945\n"
     ]
    },
    {
     "data": {
      "text/plain": [
       "<keras.callbacks.History at 0x18ef5421e80>"
      ]
     },
     "execution_count": 14,
     "metadata": {},
     "output_type": "execute_result"
    }
   ],
   "source": [
    "model.fit([Xoh, s0, c0], outputs, epochs=1, batch_size=100)"
   ]
  },
  {
   "cell_type": "markdown",
   "metadata": {},
   "source": [
    "While training you can see the loss as well as the accuracy on each of the 10 positions of the output. The table below gives you an example of what the accuracies could be if the batch had 2 examples: \n",
    "\n",
    "<img src=\"images/table.png\" style=\"width:700;height:200px;\"> <br>\n",
    "<caption><center>Thus, `dense_2_acc_8: 0.89` means that you are predicting the 7th character of the output correctly 89% of the time in the current batch of data. </center></caption>\n",
    "\n",
    "\n",
    "We have run this model for longer, and saved the weights. Run the next cell to load our weights. (By training a model for several minutes, you should be able to obtain a model of similar accuracy, but loading our model will save you time.) "
   ]
  },
  {
   "cell_type": "code",
   "execution_count": 15,
   "metadata": {},
   "outputs": [],
   "source": [
    "model.load_weights('models/model.h5')"
   ]
  },
  {
   "cell_type": "markdown",
   "metadata": {},
   "source": [
    "You can now see the results on new examples."
   ]
  },
  {
   "cell_type": "code",
   "execution_count": 16,
   "metadata": {},
   "outputs": [
    {
     "ename": "ValueError",
     "evalue": "Error when checking input: expected input_1 to have 3 dimensions, but got array with shape (37, 30)",
     "output_type": "error",
     "traceback": [
      "\u001b[1;31m---------------------------------------------------------------------------\u001b[0m",
      "\u001b[1;31mValueError\u001b[0m                                Traceback (most recent call last)",
      "\u001b[1;32m<ipython-input-16-ac7ef602615d>\u001b[0m in \u001b[0;36m<module>\u001b[1;34m\u001b[0m\n\u001b[0;32m      4\u001b[0m     \u001b[0msource\u001b[0m \u001b[1;33m=\u001b[0m \u001b[0mstring_to_int\u001b[0m\u001b[1;33m(\u001b[0m\u001b[0mexample\u001b[0m\u001b[1;33m,\u001b[0m \u001b[0mTx\u001b[0m\u001b[1;33m,\u001b[0m \u001b[0mhuman_vocab\u001b[0m\u001b[1;33m)\u001b[0m\u001b[1;33m\u001b[0m\u001b[1;33m\u001b[0m\u001b[0m\n\u001b[0;32m      5\u001b[0m     \u001b[0msource\u001b[0m \u001b[1;33m=\u001b[0m \u001b[0mnp\u001b[0m\u001b[1;33m.\u001b[0m\u001b[0marray\u001b[0m\u001b[1;33m(\u001b[0m\u001b[0mlist\u001b[0m\u001b[1;33m(\u001b[0m\u001b[0mmap\u001b[0m\u001b[1;33m(\u001b[0m\u001b[1;32mlambda\u001b[0m \u001b[0mx\u001b[0m\u001b[1;33m:\u001b[0m \u001b[0mto_categorical\u001b[0m\u001b[1;33m(\u001b[0m\u001b[0mx\u001b[0m\u001b[1;33m,\u001b[0m \u001b[0mnum_classes\u001b[0m\u001b[1;33m=\u001b[0m\u001b[0mlen\u001b[0m\u001b[1;33m(\u001b[0m\u001b[0mhuman_vocab\u001b[0m\u001b[1;33m)\u001b[0m\u001b[1;33m)\u001b[0m\u001b[1;33m,\u001b[0m \u001b[0msource\u001b[0m\u001b[1;33m)\u001b[0m\u001b[1;33m)\u001b[0m\u001b[1;33m)\u001b[0m\u001b[1;33m.\u001b[0m\u001b[0mswapaxes\u001b[0m\u001b[1;33m(\u001b[0m\u001b[1;36m0\u001b[0m\u001b[1;33m,\u001b[0m\u001b[1;36m1\u001b[0m\u001b[1;33m)\u001b[0m\u001b[1;33m\u001b[0m\u001b[1;33m\u001b[0m\u001b[0m\n\u001b[1;32m----> 6\u001b[1;33m     \u001b[0mprediction\u001b[0m \u001b[1;33m=\u001b[0m \u001b[0mmodel\u001b[0m\u001b[1;33m.\u001b[0m\u001b[0mpredict\u001b[0m\u001b[1;33m(\u001b[0m\u001b[1;33m[\u001b[0m\u001b[0msource\u001b[0m\u001b[1;33m,\u001b[0m \u001b[0ms0\u001b[0m\u001b[1;33m,\u001b[0m \u001b[0mc0\u001b[0m\u001b[1;33m]\u001b[0m\u001b[1;33m)\u001b[0m\u001b[1;33m\u001b[0m\u001b[1;33m\u001b[0m\u001b[0m\n\u001b[0m\u001b[0;32m      7\u001b[0m     \u001b[0mprediction\u001b[0m \u001b[1;33m=\u001b[0m \u001b[0mnp\u001b[0m\u001b[1;33m.\u001b[0m\u001b[0margmax\u001b[0m\u001b[1;33m(\u001b[0m\u001b[0mprediction\u001b[0m\u001b[1;33m,\u001b[0m \u001b[0maxis\u001b[0m \u001b[1;33m=\u001b[0m \u001b[1;33m-\u001b[0m\u001b[1;36m1\u001b[0m\u001b[1;33m)\u001b[0m\u001b[1;33m\u001b[0m\u001b[1;33m\u001b[0m\u001b[0m\n\u001b[0;32m      8\u001b[0m     \u001b[0moutput\u001b[0m \u001b[1;33m=\u001b[0m \u001b[1;33m[\u001b[0m\u001b[0minv_machine_vocab\u001b[0m\u001b[1;33m[\u001b[0m\u001b[0mint\u001b[0m\u001b[1;33m(\u001b[0m\u001b[0mi\u001b[0m\u001b[1;33m)\u001b[0m\u001b[1;33m]\u001b[0m \u001b[1;32mfor\u001b[0m \u001b[0mi\u001b[0m \u001b[1;32min\u001b[0m \u001b[0mprediction\u001b[0m\u001b[1;33m]\u001b[0m\u001b[1;33m\u001b[0m\u001b[1;33m\u001b[0m\u001b[0m\n",
      "\u001b[1;32mC:\\ProgramData\\Anaconda3\\lib\\site-packages\\keras\\engine\\training.py\u001b[0m in \u001b[0;36mpredict\u001b[1;34m(self, x, batch_size, verbose, steps)\u001b[0m\n\u001b[0;32m   1147\u001b[0m                              'argument.')\n\u001b[0;32m   1148\u001b[0m         \u001b[1;31m# Validate user data.\u001b[0m\u001b[1;33m\u001b[0m\u001b[1;33m\u001b[0m\u001b[1;33m\u001b[0m\u001b[0m\n\u001b[1;32m-> 1149\u001b[1;33m         \u001b[0mx\u001b[0m\u001b[1;33m,\u001b[0m \u001b[0m_\u001b[0m\u001b[1;33m,\u001b[0m \u001b[0m_\u001b[0m \u001b[1;33m=\u001b[0m \u001b[0mself\u001b[0m\u001b[1;33m.\u001b[0m\u001b[0m_standardize_user_data\u001b[0m\u001b[1;33m(\u001b[0m\u001b[0mx\u001b[0m\u001b[1;33m)\u001b[0m\u001b[1;33m\u001b[0m\u001b[1;33m\u001b[0m\u001b[0m\n\u001b[0m\u001b[0;32m   1150\u001b[0m         \u001b[1;32mif\u001b[0m \u001b[0mself\u001b[0m\u001b[1;33m.\u001b[0m\u001b[0mstateful\u001b[0m\u001b[1;33m:\u001b[0m\u001b[1;33m\u001b[0m\u001b[1;33m\u001b[0m\u001b[0m\n\u001b[0;32m   1151\u001b[0m             \u001b[1;32mif\u001b[0m \u001b[0mx\u001b[0m\u001b[1;33m[\u001b[0m\u001b[1;36m0\u001b[0m\u001b[1;33m]\u001b[0m\u001b[1;33m.\u001b[0m\u001b[0mshape\u001b[0m\u001b[1;33m[\u001b[0m\u001b[1;36m0\u001b[0m\u001b[1;33m]\u001b[0m \u001b[1;33m>\u001b[0m \u001b[0mbatch_size\u001b[0m \u001b[1;32mand\u001b[0m \u001b[0mx\u001b[0m\u001b[1;33m[\u001b[0m\u001b[1;36m0\u001b[0m\u001b[1;33m]\u001b[0m\u001b[1;33m.\u001b[0m\u001b[0mshape\u001b[0m\u001b[1;33m[\u001b[0m\u001b[1;36m0\u001b[0m\u001b[1;33m]\u001b[0m \u001b[1;33m%\u001b[0m \u001b[0mbatch_size\u001b[0m \u001b[1;33m!=\u001b[0m \u001b[1;36m0\u001b[0m\u001b[1;33m:\u001b[0m\u001b[1;33m\u001b[0m\u001b[1;33m\u001b[0m\u001b[0m\n",
      "\u001b[1;32mC:\\ProgramData\\Anaconda3\\lib\\site-packages\\keras\\engine\\training.py\u001b[0m in \u001b[0;36m_standardize_user_data\u001b[1;34m(self, x, y, sample_weight, class_weight, check_array_lengths, batch_size)\u001b[0m\n\u001b[0;32m    749\u001b[0m             \u001b[0mfeed_input_shapes\u001b[0m\u001b[1;33m,\u001b[0m\u001b[1;33m\u001b[0m\u001b[1;33m\u001b[0m\u001b[0m\n\u001b[0;32m    750\u001b[0m             \u001b[0mcheck_batch_axis\u001b[0m\u001b[1;33m=\u001b[0m\u001b[1;32mFalse\u001b[0m\u001b[1;33m,\u001b[0m  \u001b[1;31m# Don't enforce the batch size.\u001b[0m\u001b[1;33m\u001b[0m\u001b[1;33m\u001b[0m\u001b[0m\n\u001b[1;32m--> 751\u001b[1;33m             exception_prefix='input')\n\u001b[0m\u001b[0;32m    752\u001b[0m \u001b[1;33m\u001b[0m\u001b[0m\n\u001b[0;32m    753\u001b[0m         \u001b[1;32mif\u001b[0m \u001b[0my\u001b[0m \u001b[1;32mis\u001b[0m \u001b[1;32mnot\u001b[0m \u001b[1;32mNone\u001b[0m\u001b[1;33m:\u001b[0m\u001b[1;33m\u001b[0m\u001b[1;33m\u001b[0m\u001b[0m\n",
      "\u001b[1;32mC:\\ProgramData\\Anaconda3\\lib\\site-packages\\keras\\engine\\training_utils.py\u001b[0m in \u001b[0;36mstandardize_input_data\u001b[1;34m(data, names, shapes, check_batch_axis, exception_prefix)\u001b[0m\n\u001b[0;32m    126\u001b[0m                         \u001b[1;34m': expected '\u001b[0m \u001b[1;33m+\u001b[0m \u001b[0mnames\u001b[0m\u001b[1;33m[\u001b[0m\u001b[0mi\u001b[0m\u001b[1;33m]\u001b[0m \u001b[1;33m+\u001b[0m \u001b[1;34m' to have '\u001b[0m \u001b[1;33m+\u001b[0m\u001b[1;33m\u001b[0m\u001b[1;33m\u001b[0m\u001b[0m\n\u001b[0;32m    127\u001b[0m                         \u001b[0mstr\u001b[0m\u001b[1;33m(\u001b[0m\u001b[0mlen\u001b[0m\u001b[1;33m(\u001b[0m\u001b[0mshape\u001b[0m\u001b[1;33m)\u001b[0m\u001b[1;33m)\u001b[0m \u001b[1;33m+\u001b[0m \u001b[1;34m' dimensions, but got array '\u001b[0m\u001b[1;33m\u001b[0m\u001b[1;33m\u001b[0m\u001b[0m\n\u001b[1;32m--> 128\u001b[1;33m                         'with shape ' + str(data_shape))\n\u001b[0m\u001b[0;32m    129\u001b[0m                 \u001b[1;32mif\u001b[0m \u001b[1;32mnot\u001b[0m \u001b[0mcheck_batch_axis\u001b[0m\u001b[1;33m:\u001b[0m\u001b[1;33m\u001b[0m\u001b[1;33m\u001b[0m\u001b[0m\n\u001b[0;32m    130\u001b[0m                     \u001b[0mdata_shape\u001b[0m \u001b[1;33m=\u001b[0m \u001b[0mdata_shape\u001b[0m\u001b[1;33m[\u001b[0m\u001b[1;36m1\u001b[0m\u001b[1;33m:\u001b[0m\u001b[1;33m]\u001b[0m\u001b[1;33m\u001b[0m\u001b[1;33m\u001b[0m\u001b[0m\n",
      "\u001b[1;31mValueError\u001b[0m: Error when checking input: expected input_1 to have 3 dimensions, but got array with shape (37, 30)"
     ]
    }
   ],
   "source": [
    "EXAMPLES = ['3 May 1979', '5 April 09', '21th of August 2016', 'Tue 10 Jul 2007', 'Saturday May 9 2018', 'March 3 2001', 'March 3rd 2001', '1 March 2001']\n",
    "for example in EXAMPLES:\n",
    "    \n",
    "    source = string_to_int(example, Tx, human_vocab)\n",
    "    source = np.array(list(map(lambda x: to_categorical(x, num_classes=len(human_vocab)), source))).swapaxes(0,1)\n",
    "    prediction = model.predict([source, s0, c0])\n",
    "    prediction = np.argmax(prediction, axis = -1)\n",
    "    output = [inv_machine_vocab[int(i)] for i in prediction]\n",
    "    \n",
    "    print(\"source:\", example)\n",
    "    print(\"output:\", ''.join(output))"
   ]
  },
  {
   "cell_type": "markdown",
   "metadata": {},
   "source": [
    "You can also change these examples to test with your own examples. The next part will give you a better sense on what the attention mechanism is doing--i.e., what part of the input the network is paying attention to when generating a particular output character. "
   ]
  },
  {
   "cell_type": "markdown",
   "metadata": {},
   "source": [
    "## 3 - Visualizing Attention (Optional / Ungraded)\n",
    "\n",
    "Since the problem has a fixed output length of 10, it is also possible to carry out this task using 10 different softmax units to generate the 10 characters of the output. But one advantage of the attention model is that each part of the output (say the month) knows it needs to depend only on a small part of the input (the characters in the input giving the month). We can  visualize what part of the output is looking at what part of the input.\n",
    "\n",
    "Consider the task of translating \"Saturday 9 May 2018\" to \"2018-05-09\". If we visualize the computed $\\alpha^{\\langle t, t' \\rangle}$ we get this: \n",
    "\n",
    "<img src=\"images/date_attention.png\" style=\"width:600;height:300px;\"> <br>\n",
    "<caption><center> **Figure 8**: Full Attention Map</center></caption>\n",
    "\n",
    "Notice how the output ignores the \"Saturday\" portion of the input. None of the output timesteps are paying much attention to that portion of the input. We see also that 9 has been translated as 09 and May has been correctly translated into 05, with the output paying attention to the parts of the input it needs to to make the translation. The year mostly requires it to pay attention to the input's \"18\" in order to generate \"2018.\" \n",
    "\n"
   ]
  },
  {
   "cell_type": "markdown",
   "metadata": {},
   "source": [
    "### 3.1 - Getting the activations from the network\n",
    "\n",
    "Lets now visualize the attention values in your network. We'll propagate an example through the network, then visualize the values of $\\alpha^{\\langle t, t' \\rangle}$. \n",
    "\n",
    "To figure out where the attention values are located, let's start by printing a summary of the model ."
   ]
  },
  {
   "cell_type": "code",
   "execution_count": null,
   "metadata": {
    "collapsed": true
   },
   "outputs": [],
   "source": [
    "model.summary()"
   ]
  },
  {
   "cell_type": "markdown",
   "metadata": {},
   "source": [
    "Navigate through the output of `model.summary()` above. You can see that the layer named `attention_weights` outputs the `alphas` of shape (m, 30, 1) before `dot_2` computes the context vector for every time step $t = 0, \\ldots, T_y-1$. Lets get the activations from this layer.\n",
    "\n",
    "The function `attention_map()` pulls out the attention values from your model and plots them."
   ]
  },
  {
   "cell_type": "code",
   "execution_count": null,
   "metadata": {
    "collapsed": true,
    "scrolled": false
   },
   "outputs": [],
   "source": [
    "attention_map = plot_attention_map(model, human_vocab, inv_machine_vocab, \"Tuesday 09 Oct 1993\", num = 7, n_s = 64)"
   ]
  },
  {
   "cell_type": "markdown",
   "metadata": {},
   "source": [
    "On the generated plot you can observe the values of the attention weights for each character of the predicted output. Examine this plot and check that where the network is paying attention makes sense to you.\n",
    "\n",
    "In the date translation application, you will observe that most of the time attention helps predict the year, and hasn't much impact on predicting the day/month."
   ]
  },
  {
   "cell_type": "markdown",
   "metadata": {},
   "source": [
    "### Congratulations!\n",
    "\n",
    "\n",
    "You have come to the end of this assignment \n",
    "\n",
    "<font color='blue'> **Here's what you should remember from this notebook**:\n",
    "\n",
    "- Machine translation models can be used to map from one sequence to another. They are useful not just for translating human languages (like French->English) but also for tasks like date format translation. \n",
    "- An attention mechanism allows a network to focus on the most relevant parts of the input when producing a specific part of the output. \n",
    "- A network using an attention mechanism can translate from inputs of length $T_x$ to outputs of length $T_y$, where $T_x$ and $T_y$ can be different. \n",
    "- You can visualize attention weights $\\alpha^{\\langle t,t' \\rangle}$ to see what the network is paying attention to while generating each output."
   ]
  },
  {
   "cell_type": "markdown",
   "metadata": {},
   "source": [
    "Congratulations on finishing this assignment! You are now able to implement an attention model and use it to learn complex mappings from one sequence to another. "
   ]
  }
 ],
 "metadata": {
  "coursera": {
   "course_slug": "nlp-sequence-models",
   "graded_item_id": "n16CQ",
   "launcher_item_id": "npjGi"
  },
  "kernelspec": {
   "display_name": "Python 3",
   "language": "python",
   "name": "python3"
  },
  "language_info": {
   "codemirror_mode": {
    "name": "ipython",
    "version": 3
   },
   "file_extension": ".py",
   "mimetype": "text/x-python",
   "name": "python",
   "nbconvert_exporter": "python",
   "pygments_lexer": "ipython3",
   "version": "3.7.3"
  }
 },
 "nbformat": 4,
 "nbformat_minor": 2
}
